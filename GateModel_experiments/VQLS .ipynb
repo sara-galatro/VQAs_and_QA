{
 "cells": [
  {
   "cell_type": "markdown",
   "metadata": {},
   "source": [
    "# Variational Quantum Linear Solver in Qiskit\n",
    "\n",
    "Running on local simulators."
   ]
  },
  {
   "cell_type": "markdown",
   "metadata": {},
   "source": [
    "## Introduction\n",
    "\n",
    "The Variational Quantum Linear Solver (VQLS) aims to take advantage of a variational setup to compute a solution to a linear system, i.e. given a system through a matrix $\\mathbf{A}$ we want to find a vector $\\mathbf{x}$ such that\n",
    "$$\n",
    "    \\mathbf{A}\\mathbf{x} = \\mathbf{b}\n",
    "$$\n",
    "The goal is to prepare a quantum state $|x\\rangle$, proportional to $\\mathbf{x}$, that satisfies the equation.\n",
    "\n",
    "To prepare this state, we first build an initial parameterized circuit (i.e. an ansatz) $V(\\mathbf{\\theta})$, where $\\mathbf{\\theta}\\in\\mathbb{R}^d$ is the vector of parameters whose elements are generated randomically. Then, we will proceed to modify the $\\theta_i$ through multiple runs of an optimization process."
   ]
  },
  {
   "cell_type": "markdown",
   "metadata": {},
   "source": [
    "## Setup"
   ]
  },
  {
   "cell_type": "markdown",
   "metadata": {},
   "source": [
    "Before diving into the VQLS implementation, let's import the necessary packages and modules."
   ]
  },
  {
   "cell_type": "code",
   "execution_count": 1,
   "metadata": {},
   "outputs": [],
   "source": [
    "# import\n",
    "import numpy as np\n",
    "import scipy as sp\n",
    "from sympy import symbols\n",
    "import matplotlib.pyplot as plt"
   ]
  },
  {
   "cell_type": "code",
   "execution_count": 2,
   "metadata": {},
   "outputs": [],
   "source": [
    "from qiskit.circuit import QuantumCircuit, Parameter, QuantumRegister, ClassicalRegister\n",
    "from qiskit.visualization import array_to_latex\n",
    "from qiskit.quantum_info.operators import Operator\n",
    "from qiskit.quantum_info import SparsePauliOp\n",
    "from qiskit import Aer, transpile\n",
    "from qiskit.circuit.library import HGate\n",
    "\n",
    "from scipy.optimize import minimize"
   ]
  },
  {
   "cell_type": "markdown",
   "metadata": {},
   "source": [
    "## Step 1: setting up the elements"
   ]
  },
  {
   "cell_type": "markdown",
   "metadata": {},
   "source": [
    "### Defining the associated matrix $\\mathbf{A}$ from the system"
   ]
  },
  {
   "cell_type": "markdown",
   "metadata": {},
   "source": [
    "We will focus on a small, custom-defined example:\n",
    "$$\n",
    "    \\mathbf{A} = 0.225\\mathbf{Z}_2 + 0.225\\mathbf{Z}_3 + 0.55\\mathbb{I}\n",
    "$$\n",
    "where the subscript indicates the qubit they act upon."
   ]
  },
  {
   "cell_type": "code",
   "execution_count": 3,
   "metadata": {},
   "outputs": [
    {
     "data": {
      "text/latex": [
       "$$\n",
       "\n",
       "\\begin{bmatrix}\n",
       "1 & 0 & 0 & 0 & 0 & 0 & 0 & 0  \\\\\n",
       " 0 & 1 & 0 & 0 & 0 & 0 & 0 & 0  \\\\\n",
       " 0 & 0 & \\frac{11}{20} & 0 & 0 & 0 & 0 & 0  \\\\\n",
       " 0 & 0 & 0 & \\frac{11}{20} & 0 & 0 & 0 & 0  \\\\\n",
       " 0 & 0 & 0 & 0 & \\frac{11}{20} & 0 & 0 & 0  \\\\\n",
       " 0 & 0 & 0 & 0 & 0 & \\frac{11}{20} & 0 & 0  \\\\\n",
       " 0 & 0 & 0 & 0 & 0 & 0 & \\frac{1}{10} & 0  \\\\\n",
       " 0 & 0 & 0 & 0 & 0 & 0 & 0 & \\frac{1}{10}  \\\\\n",
       " \\end{bmatrix}\n",
       "$$"
      ],
      "text/plain": [
       "<IPython.core.display.Latex object>"
      ]
     },
     "execution_count": 3,
     "metadata": {},
     "output_type": "execute_result"
    }
   ],
   "source": [
    "## A matrix\n",
    "paulis = ['IIZ','IZI','III']\n",
    "coeffs = [0.225, 0.225, 0.55]\n",
    "\n",
    "n = 3\n",
    "N = 2**n\n",
    "\n",
    "reversed_paulis = [paulis[i][::-1] for i in range(len(paulis))]    \n",
    "A_matrix = SparsePauliOp(reversed_paulis, coeffs).to_matrix()\n",
    "array_to_latex(A_matrix, max_size=16)\n"
   ]
  },
  {
   "cell_type": "markdown",
   "metadata": {},
   "source": [
    "Since Qiskit works in little endian convention, the string `IIZ` means that a $\\mathbf{Z}$ gate is applied onto the first qubit $q_0$, i.e. the order is reversed with the natural and theoretical order:\n",
    "$$\n",
    "    IIZ \\equiv \\mathbf{Z}\\otimes \\mathbb{I} \\otimes \\mathbb{I}\n",
    "$$\n",
    "However, using `PauliSparseOp.to_matrix()` will compute the tensor product in the reading order, meaning\n",
    "$$\n",
    "    IIZ \\mapsto \\mathbb{I} \\otimes \\mathbb{I} \\otimes \\mathbf{Z}\n",
    "$$\n",
    "Hence, to get the right associated matrix, we need to reverse the string order before turning the `PauliSparseOp` object into a matrix."
   ]
  },
  {
   "cell_type": "markdown",
   "metadata": {},
   "source": [
    "### Building $|b\\rangle$: defining the $\\mathbf{U}_b$ unitary matrix as a circuit"
   ]
  },
  {
   "cell_type": "markdown",
   "metadata": {},
   "source": [
    "To implement the algorithm we will also need a circuit (or, equivalently, a unitary matrix) $\\mathbf{U}_b$ such that\n",
    "$$\n",
    "    \\mathbf{U}_b|0\\rangle = |b\\rangle\n",
    "$$\n",
    "where $|b\\rangle$ is the normalized version of the given $\\mathbf{b}$.\n",
    "\n",
    "For the purpose of this notebook, we will define $|b\\rangle$ as the uniform superposition of all states, which can be obtained by applying an Hadamard gate to every qubit, i.e.\n",
    "$$\n",
    "    |b\\rangle = \\mathbf{H}^{\\otimes n} |0\\rangle\n",
    "$$  "
   ]
  },
  {
   "cell_type": "code",
   "execution_count": 4,
   "metadata": {},
   "outputs": [
    {
     "data": {
      "text/latex": [
       "$$\n",
       "\n",
       "\\begin{bmatrix}\n",
       "\\frac{\\sqrt{2}}{4} & \\frac{\\sqrt{2}}{4} & \\frac{\\sqrt{2}}{4} & \\frac{\\sqrt{2}}{4} & \\frac{\\sqrt{2}}{4} & \\frac{\\sqrt{2}}{4} & \\frac{\\sqrt{2}}{4} & \\frac{\\sqrt{2}}{4}  \\\\\n",
       " \\frac{\\sqrt{2}}{4} & - \\frac{\\sqrt{2}}{4} & \\frac{\\sqrt{2}}{4} & - \\frac{\\sqrt{2}}{4} & \\frac{\\sqrt{2}}{4} & - \\frac{\\sqrt{2}}{4} & \\frac{\\sqrt{2}}{4} & - \\frac{\\sqrt{2}}{4}  \\\\\n",
       " \\frac{\\sqrt{2}}{4} & \\frac{\\sqrt{2}}{4} & - \\frac{\\sqrt{2}}{4} & - \\frac{\\sqrt{2}}{4} & \\frac{\\sqrt{2}}{4} & \\frac{\\sqrt{2}}{4} & - \\frac{\\sqrt{2}}{4} & - \\frac{\\sqrt{2}}{4}  \\\\\n",
       " \\frac{\\sqrt{2}}{4} & - \\frac{\\sqrt{2}}{4} & - \\frac{\\sqrt{2}}{4} & \\frac{\\sqrt{2}}{4} & \\frac{\\sqrt{2}}{4} & - \\frac{\\sqrt{2}}{4} & - \\frac{\\sqrt{2}}{4} & \\frac{\\sqrt{2}}{4}  \\\\\n",
       " \\frac{\\sqrt{2}}{4} & \\frac{\\sqrt{2}}{4} & \\frac{\\sqrt{2}}{4} & \\frac{\\sqrt{2}}{4} & - \\frac{\\sqrt{2}}{4} & - \\frac{\\sqrt{2}}{4} & - \\frac{\\sqrt{2}}{4} & - \\frac{\\sqrt{2}}{4}  \\\\\n",
       " \\frac{\\sqrt{2}}{4} & - \\frac{\\sqrt{2}}{4} & \\frac{\\sqrt{2}}{4} & - \\frac{\\sqrt{2}}{4} & - \\frac{\\sqrt{2}}{4} & \\frac{\\sqrt{2}}{4} & - \\frac{\\sqrt{2}}{4} & \\frac{\\sqrt{2}}{4}  \\\\\n",
       " \\frac{\\sqrt{2}}{4} & \\frac{\\sqrt{2}}{4} & - \\frac{\\sqrt{2}}{4} & - \\frac{\\sqrt{2}}{4} & - \\frac{\\sqrt{2}}{4} & - \\frac{\\sqrt{2}}{4} & \\frac{\\sqrt{2}}{4} & \\frac{\\sqrt{2}}{4}  \\\\\n",
       " \\frac{\\sqrt{2}}{4} & - \\frac{\\sqrt{2}}{4} & - \\frac{\\sqrt{2}}{4} & \\frac{\\sqrt{2}}{4} & - \\frac{\\sqrt{2}}{4} & \\frac{\\sqrt{2}}{4} & \\frac{\\sqrt{2}}{4} & - \\frac{\\sqrt{2}}{4}  \\\\\n",
       " \\end{bmatrix}\n",
       "$$"
      ],
      "text/plain": [
       "<IPython.core.display.Latex object>"
      ]
     },
     "execution_count": 4,
     "metadata": {},
     "output_type": "execute_result"
    }
   ],
   "source": [
    "## matrix Ub\n",
    "H_gate = Operator(HGate()).to_matrix()\n",
    "\n",
    "ph_tensor = np.kron(H_gate,H_gate)\n",
    "for j in range(n-2):\n",
    "    ph_tensor = np.kron(ph_tensor,H_gate)\n",
    "\n",
    "Ub_matrix = ph_tensor\n",
    "array_to_latex(Ub_matrix, max_size=16)"
   ]
  },
  {
   "cell_type": "code",
   "execution_count": 5,
   "metadata": {},
   "outputs": [],
   "source": [
    "## Ub circuit\n",
    "def build_Ub_circuit(n):\n",
    "\n",
    "    qreg = QuantumRegister(n, name='q')\n",
    "    qc = QuantumCircuit(qreg)\n",
    "\n",
    "    for i in range(n):\n",
    "        qc.h(qreg[i]) \n",
    "\n",
    "    return(qc)"
   ]
  },
  {
   "cell_type": "code",
   "execution_count": 6,
   "metadata": {},
   "outputs": [
    {
     "data": {
      "image/png": "[encoded data removed]",
      "text/plain": [
       "<Figure size 203.885x284.278 with 1 Axes>"
      ]
     },
     "execution_count": 6,
     "metadata": {},
     "output_type": "execute_result"
    }
   ],
   "source": [
    "qc = build_Ub_circuit(n)\n",
    "qc.draw('mpl')"
   ]
  },
  {
   "cell_type": "markdown",
   "metadata": {},
   "source": [
    "For evaluating our cost function, we will also need a controlled version of the previous circuit."
   ]
  },
  {
   "cell_type": "code",
   "execution_count": 7,
   "metadata": {},
   "outputs": [],
   "source": [
    "## matrix controlled-Ub \n",
    "def build_controlled_Ub_circuit(n):\n",
    "\n",
    "    qreg = QuantumRegister(n + 1, name='q')    # var + control\n",
    "    qc = QuantumCircuit(qreg)\n",
    "\n",
    "    for i in range(n):\n",
    "        qc.ch(0,qreg[i+1])\n",
    "\n",
    "    return(qc)"
   ]
  },
  {
   "cell_type": "code",
   "execution_count": 8,
   "metadata": {},
   "outputs": [
    {
     "data": {
      "image/png": "[encoded data removed]",
      "text/plain": [
       "<Figure size 371.107x367.889 with 1 Axes>"
      ]
     },
     "execution_count": 8,
     "metadata": {},
     "output_type": "execute_result"
    }
   ],
   "source": [
    "qc = build_controlled_Ub_circuit(n)\n",
    "qc.draw('mpl')"
   ]
  },
  {
   "cell_type": "markdown",
   "metadata": {},
   "source": [
    "## Step 2: building the ansatz"
   ]
  },
  {
   "cell_type": "markdown",
   "metadata": {},
   "source": [
    "Having defined the basic elements of our algorithm, we now move onto building our ansatz, i.e. the parameterized circuit $\\mathbf{V}(\\theta)$ that we want to optimize."
   ]
  },
  {
   "cell_type": "markdown",
   "metadata": {},
   "source": [
    "### Fixed-Hardware Ansatz"
   ]
  },
  {
   "cell_type": "markdown",
   "metadata": {},
   "source": [
    "The used ansatz is the so-called **Fixed-Hardware Ansatz**, where the 'fixed' refers to the structure (i.e. the gates position) does not vary throughout the optimization. \n",
    "\n",
    "This ansatz has the following structure: a layer $'0'$ with rotations around the $Y$ axis on every qubit and then a custom number of layers (defined by the variable `layers`), each one composed by rotations around the $Y$ axis and entanglement operations (the $\\mathbf{CZ}s$)."
   ]
  },
  {
   "cell_type": "code",
   "execution_count": 9,
   "metadata": {},
   "outputs": [],
   "source": [
    "def build_fixed_ansatz(n, layers, parameters):\n",
    "\n",
    "    qc = QuantumCircuit(n)\n",
    "\n",
    "    ## initial rotations on layer 0\n",
    "    for i in range(n):\n",
    "        qc.ry(parameters[0][i], i)\n",
    "    \n",
    "    ## layers (starting from 1)\n",
    "    if n%2 == 0:\n",
    "        for layer in range(1,layers):\n",
    "\n",
    "            ## first CZ\n",
    "            for i in range(0,n-1,2):       \n",
    "                qc.cz(i,i+1)\n",
    "            \n",
    "            ## Y rotations on all qubits\n",
    "            for i in range(n):\n",
    "                qc.ry(parameters[layer][0][i], i)\n",
    "\n",
    "            ## other CZ\n",
    "            for i in range(1,n-2,2):       \n",
    "                qc.cz(i,i+1)\n",
    "\n",
    "            ## final Y rotations\n",
    "            for i in range(1,n-1):\n",
    "                qc.ry(parameters[layer][1][i-1], i)\n",
    "            qc.barrier()\n",
    "            \n",
    "    else:\n",
    "        for layer in range(1,layers):\n",
    "\n",
    "            ## first CZ\n",
    "            for i in range(0,n,2):  \n",
    "                ph_i = (i+1)%n     \n",
    "                qc.cz(i,ph_i, label=f'{i}{ph_i}')\n",
    "            \n",
    "            ## Y rotations on all qubits\n",
    "            for i in range(n):\n",
    "                qc.ry(parameters[layer][0][i], i)\n",
    "\n",
    "            ## other CZ\n",
    "            for i in range(1,n): \n",
    "                ph_i = (i+1)%n       \n",
    "                qc.cz(i, ph_i, label=f'{i}{ph_i}')\n",
    "\n",
    "            ## final Y rotations\n",
    "            for i in range(n):\n",
    "                qc.ry(parameters[layer][1][i], i)\n",
    "       \n",
    "    return(qc)"
   ]
  },
  {
   "cell_type": "markdown",
   "metadata": {},
   "source": [
    "We can change the number of layers based on our necessities, but for now let's build an ansatz for our problem with one custom layers and one full of rotations.\n",
    "\n",
    "For now, we don't need to take into much consideration the parameters $\\theta_i$, so we'll use the Qiskit class `Parameters` to define the needed placeholders. We will later substitute them with a random initialization to run our optimizer.\n",
    "\n",
    "Finally, since we need this parameters to be organized in a list of lists based on the layer and the level they need to be put in, we will re-format the list through the function `separate_parameters`. This function will be called directly in the cost evaluation, but we leave an example of how it works in the following cell:"
   ]
  },
  {
   "cell_type": "code",
   "execution_count": 10,
   "metadata": {},
   "outputs": [],
   "source": [
    "# auxiliary function to correctly format the array of parameters\n",
    "def separate_parameters(parameters, layers):\n",
    "\n",
    "    global n\n",
    "\n",
    "    ph_params = []\n",
    "\n",
    "    if n%2 == 0:\n",
    "\n",
    "        stride0 = n\n",
    "        stride1 = n - 2\n",
    "        start = 0\n",
    "\n",
    "        for layer in range(layers):\n",
    "            if layer == 0:\n",
    "                end = start + stride0\n",
    "                ph_params.append(parameters[start:end])\n",
    "                start = end\n",
    "            else:\n",
    "                ph_list = []\n",
    "                level = 0\n",
    "                while level < 2:\n",
    "                    if level == 0:\n",
    "                        end = start + stride0\n",
    "                        ph_list.append(parameters[start:end])\n",
    "                        level += 1\n",
    "                        start = end\n",
    "                    else:\n",
    "                        end = start + stride1\n",
    "                        ph_list.append(parameters[start:end])\n",
    "                        level += 1\n",
    "                        start = end\n",
    "                ph_params.append(ph_list)\n",
    "    else:\n",
    "\n",
    "        stride = n\n",
    "        start = 0\n",
    "\n",
    "        for layer in range(layers):\n",
    "            if layer == 0:\n",
    "                end = start + stride\n",
    "                ph_params.append(parameters[start:end])\n",
    "                start = end\n",
    "            else:\n",
    "                ph_list = []\n",
    "                level = 0\n",
    "                while level < 2:\n",
    "                    if level == 0:\n",
    "                        end = start + stride\n",
    "                        ph_list.append(parameters[start:end])\n",
    "                        level += 1\n",
    "                        start = end\n",
    "                    else:\n",
    "                        end = start + stride\n",
    "                        ph_list.append(parameters[start:end])\n",
    "                        level += 1\n",
    "                        start = end\n",
    "                ph_params.append(ph_list)\n",
    "\n",
    "    return(ph_params)"
   ]
  },
  {
   "cell_type": "markdown",
   "metadata": {},
   "source": [
    "Let's see an example of this formatting:"
   ]
  },
  {
   "cell_type": "code",
   "execution_count": 11,
   "metadata": {},
   "outputs": [
    {
     "name": "stdout",
     "output_type": "stream",
     "text": [
      "Total number of parameters: 9\n",
      "\n",
      "List of parameters before formatting: \n",
      "[Parameter(theta0), Parameter(theta1), Parameter(theta2), Parameter(theta3), Parameter(theta4), Parameter(theta5), Parameter(theta6), Parameter(theta7), Parameter(theta8)]\n",
      "\n",
      "List of parameters after formatting: \n",
      "[[Parameter(theta0), Parameter(theta1), Parameter(theta2)], [[Parameter(theta3), Parameter(theta4), Parameter(theta5)], [Parameter(theta6), Parameter(theta7), Parameter(theta8)]]]\n"
     ]
    }
   ],
   "source": [
    "## hyperparameters\n",
    "layers = 1 + 1\n",
    "\n",
    "## number of parameters\n",
    "num_thetas = n\n",
    "if n%2 == 0: \n",
    "    num_thetas += (layers - 1)*(2*n - 2)\n",
    "else:\n",
    "    num_thetas += (layers - 1)*(2*n)\n",
    "print(f'Total number of parameters: {num_thetas}\\n')\n",
    "\n",
    "## parameters\n",
    "thetas = [Parameter(f'theta{i}') for i in range(num_thetas)]\n",
    "separate_thetas = separate_parameters(thetas, layers)\n",
    "\n",
    "print(f'List of parameters before formatting: \\n{thetas}\\n')\n",
    "print(f'List of parameters after formatting: \\n{separate_thetas}')"
   ]
  },
  {
   "cell_type": "code",
   "execution_count": 12,
   "metadata": {},
   "outputs": [
    {
     "data": {
      "image/png": "[encoded data removed]",
      "text/plain": [
       "<Figure size 705.552x284.278 with 1 Axes>"
      ]
     },
     "execution_count": 12,
     "metadata": {},
     "output_type": "execute_result"
    }
   ],
   "source": [
    "## fixed_ansatz building\n",
    "fixed_ansatz = QuantumCircuit(n)\n",
    "fixed_ansatz.compose(build_fixed_ansatz(n=n, layers=layers,\n",
    "                                        parameters=separate_thetas), inplace=True)\n",
    "fixed_ansatz.draw('mpl')"
   ]
  },
  {
   "cell_type": "markdown",
   "metadata": {},
   "source": [
    "### Controlled-Fixed-Ansatz"
   ]
  },
  {
   "cell_type": "markdown",
   "metadata": {},
   "source": [
    "Let's then build the controlled version of our fixed-ansatz, which we'll use in the next step to evaluate our cost function."
   ]
  },
  {
   "cell_type": "code",
   "execution_count": 13,
   "metadata": {},
   "outputs": [],
   "source": [
    "def build_controlled_fixed_ansatz(n, layers, n_auxs, parameters):\n",
    "\n",
    "    n_qubits = n + n_auxs\n",
    "    qreg = QuantumRegister(n_qubits, name='q')\n",
    "    qc = QuantumCircuit(qreg)\n",
    "\n",
    "    ## initial C-rotations on layer 0\n",
    "    for i in range(n):\n",
    "        qc.cry(parameters[0][i], qreg[0], qreg[i+1])\n",
    "    \n",
    "    ## layers (starting from 1)\n",
    "    if n%2 == 0:\n",
    "        for layer in range(1,layers):\n",
    "\n",
    "            ## first CCZ\n",
    "            for i in range(0,n-1,2):   \n",
    "                qc.ccz(0,qreg[i+1],qreg[i+2],label=f'0{i+1}{i+2}')    \n",
    "            \n",
    "            ## CY rotations on all qubits\n",
    "            for i in range(n):\n",
    "                qc.cry(parameters[layer][0][i], qreg[0], qreg[i+1])\n",
    "\n",
    "            ## other CCZ\n",
    "            for i in range(1,n-2,2):       \n",
    "                qc.ccz(0,qreg[i+1],qreg[i+2],label=f'0{i+1}{i+2}')\n",
    "\n",
    "            ## final Y rotations\n",
    "            for i in range(1,n-1):\n",
    "                qc.cry(parameters[layer][1][i-1], qreg[0], qreg[i+1])\n",
    "    else:\n",
    "        for layer in range(1,layers):\n",
    "\n",
    "            ## first CCZ\n",
    "            for i in range(1,n):  \n",
    "                ph_i = (i+1)%(n)\n",
    "                if ph_i == 0:\n",
    "                    qc.ccz(0,qreg[i+1],qreg[ph_i+1],label=f'0{i+1}{ph_i+1}') #031\n",
    "                else:\n",
    "                    qc.ccz(0,qreg[i],qreg[ph_i],label=f'0{i}{ph_i}')        #012\n",
    "            \n",
    "            ## CY rotations on all qubits\n",
    "            for i in range(n):\n",
    "                qc.cry(parameters[layer][0][i], qreg[0], qreg[i+1])\n",
    "\n",
    "            ## other CCZ\n",
    "            for i in range(2,n+1):   \n",
    "                ph_i = (i+1)%(n+1)\n",
    "                if ph_i == 0:\n",
    "                    qc.ccz(0,qreg[i],qreg[ph_i+1],label=f'0{i}{ph_i+1}') #031\n",
    "                else:\n",
    "                    qc.ccz(0,qreg[i],qreg[ph_i],label=f'0{i}{ph_i}') #023\n",
    "   \n",
    "\n",
    "            ## final CY rotations\n",
    "            for i in range(n):\n",
    "                qc.cry(parameters[layer][1][i], qreg[0], qreg[i+1])\n",
    "                \n",
    "    return(qc)"
   ]
  },
  {
   "cell_type": "code",
   "execution_count": 14,
   "metadata": {},
   "outputs": [
    {
     "data": {
      "image/png": "[encoded data removed]",
      "text/plain": [
       "<Figure size 1207.22x367.889 with 1 Axes>"
      ]
     },
     "execution_count": 14,
     "metadata": {},
     "output_type": "execute_result"
    }
   ],
   "source": [
    "qc = build_controlled_fixed_ansatz(n, layers, 1, separate_thetas)\n",
    "qc.draw('mpl')"
   ]
  },
  {
   "cell_type": "markdown",
   "metadata": {},
   "source": [
    "## Step 3: evalutaing the cost Function"
   ]
  },
  {
   "cell_type": "markdown",
   "metadata": {},
   "source": [
    "### Theory"
   ]
  },
  {
   "cell_type": "markdown",
   "metadata": {},
   "source": [
    "Remark: we are assuming $\\mathbf{A}$ can be rewritten as/is given as a linear combination of unitary matrices:\n",
    "$$\n",
    "    \\mathbf{A} = \\sum_{l=1}^L c_l \\mathbf{A}_l\n",
    "$$"
   ]
  },
  {
   "cell_type": "markdown",
   "metadata": {},
   "source": [
    "A first cost function can be defined as the overlap between the unnormalized projector $|\\psi\\rangle\\langle\\psi|$ and the subspace orthogonal to $|b\\rangle$, i.e.\n",
    "$$\n",
    "    \\hat{C}_G = Trace\\bigg( |\\psi\\rangle\\langle\\psi|(\\mathbb{I} - |b\\rangle\\langle b|) \\bigg) = \\langle x|\\mathcal{H}_G|x\\rangle \n",
    "$$ \n",
    "which can be viewed as the expectation value of the following effective Hamiltonian:\n",
    "$$\n",
    "    \\mathcal{H}_G = \\mathbf{A}^\\dagger (\\mathbb{I}  - |b\\rangle\\langle b|)\\mathbf{A}\n",
    "$$\n",
    "It is important to notice that $\\hat{C}_G$ is small either if $|\\psi\\rangle \\propto |b\\rangle$ or if the norm of $|\\psi\\rangle$ is small: the latter, though, does not represent a solution to our problem, hence we need to normalize the state in order to work with a cost function that will be minimized only when a solution is found. The modified cost function can then be defined as\n",
    "$$\n",
    "    C_G =\\frac{\\hat{C}_G}{\\langle\\psi|\\psi\\rangle} = 1 - |\\langle b|\\Psi\\rangle|^2\n",
    "$$\n",
    "where $\\Psi = \\frac{|\\psi\\rangle}{\\sqrt{\\langle\\psi|\\psi\\rangle}}$.\n",
    "\n",
    "Though very intuitive, this cost function is **global** and as such it is more likely to exhibit barren plateaus issues, slowing the optimization routine. In order to avoid this, a second function cost can be defined as the local version of the one just presented:\n",
    "$$\n",
    "    \\hat{C}_L = \\langle x|\\mathcal{H}_L|x\\rangle  \\qquad C_L = \\frac{\\hat{C}_L}{\\langle\\psi|\\psi\\rangle}\n",
    "$$\n",
    "where $\\mathcal{H}_L$ is the the effective Hamiltonian\n",
    "$$\n",
    "    \\mathcal{H}_L = \\mathbf{A}^\\dagger \\mathbf{U}_b \\underbrace{\\left( \\mathbb{I}  - \\frac{1}{n}\\sum_{k=1}^{n}|0_k\\rangle\\langle 0_k|\\otimes \\mathbb{I}_{\\overline{k}}\\right)}_{:= \\mathbf{B}} \\mathbf{U}_b^\\dagger \\mathbf{A}\n",
    "$$\n",
    "with $|0_k\\rangle$ being the zero state on qubit $k$ and $\\mathbb{I}_{\\overline{k}}$ the identity on all qubits except qubit $k$. The idea is to count how many qubits are different between $|\\psi\\rangle =: \\mathbf{A}|x(\\theta)\\rangle = (\\mathbf(AV)(\\theta))|0\\rangle$, i.e. our estimate from the circuit, and $|b\\rangle$."
   ]
  },
  {
   "cell_type": "markdown",
   "metadata": {},
   "source": [
    "The **goal** of the algorithm can then be reduced to find an optimal set of parameters $\\theta_{opt} = \\{\\theta_{opt,i}\\}_i$ such that \n",
    "$$\n",
    "    |\\psi\\rangle = \\mathbf{AV}(\\theta_{opt})|0\\rangle \\propto |b\\rangle\n",
    "$$\n",
    "Since we are looking for *a* solution to our system, we can just concentrate in finding a state $|x\\rangle$ that will output a state proportional to $|b\\rangle$."
   ]
  },
  {
   "attachments": {
    "Hadamard_test-2.png": {
     "image/png": "[encoded data removed]"
    }
   },
   "cell_type": "markdown",
   "metadata": {},
   "source": [
    "In order to evaluate the global cost function we need to compute two quantities, namely $|\\langle b|\\psi\\rangle|^2$ and $\\langle\\psi|\\psi\\rangle$. \n",
    "\n",
    "To evaluate $\\langle\\psi|\\psi\\rangle$, let's consider\n",
    "$$\n",
    "    \\langle\\psi|\\psi\\rangle = \\sum_{ij} c_i c_j^* \\beta_{ij}\n",
    "$$\n",
    "with\n",
    "$$\n",
    "    \\beta_{ij} = \\langle0| \\mathbf{V}^\\dagger\\mathbf{A}_{j}^{\\dagger}\\mathbf{A}_{i}\\mathbf{V}|0\\rangle\n",
    "$$\n",
    "Our goal is then reduced to estimate the $L^2$ paramters $\\beta_{ij}$ and we can achieve this through a subroutine called **Hadamard Test**.\n",
    "\n",
    "The Hadamard Test is a quantum routine that allows to calculate the real part of the expectation value of a unitary operation by running a specific circuit, namely\n",
    "<center>\n",
    "\n",
    "![Hadamard_test-2.png](attachment:Hadamard_test-2.png)\n",
    "\n",
    "</center>\n",
    "\n",
    "This way, the expectation value of the circuit is exactly $\\Re(\\langle\\psi|\\mathbf{Op}|\\psi\\rangle)$. It is also possible to modify this circuit, by adding a phase gate on the first quantum register, to get the imaginary part of the same expectation value. In our case, everything is real so we won't need to apply this gate, even though it is implemented in the code through the string variable `case`."
   ]
  },
  {
   "cell_type": "markdown",
   "metadata": {},
   "source": [
    "For the term $|\\langle b|\\psi\\rangle|^2$, we can move analougously:\n",
    "$$\n",
    "    |\\langle b|\\psi\\rangle|^2 = |\\langle 0|\\mathbf{U}_b^\\dagger\\mathbf{A}\\mathbf{V}|0\\rangle|^2 = \\sum_{ij} c_i c_j^* \\gamma_{ij}\n",
    "$$\n",
    "with\n",
    "$$\n",
    "    \\gamma_{ij} = \\langle0|\\mathbf{U}_b^\\dagger\\mathbf{A}_i\\mathbf{V}|0\\rangle \n",
    "                   \\langle0|\\mathbf{V}^\\dagger\\mathbf{A}_{j}^\\dagger\\mathbf{U}_b|0\\rangle\n",
    "$$\n",
    "We can achieve this either through a subroutine called **Hadamard-Overlap Test** or a standard Hadamard Test, turning every operation into a controlled version of itself. We will implement the latter circuit."
   ]
  },
  {
   "cell_type": "markdown",
   "metadata": {},
   "source": [
    "Finally, to evaluate the local cost function we'll need to compute some other terms, but let's first try and expand our cost function:\n",
    "\n",
    "Given that\n",
    "$$\n",
    "    \\begin{equation}\n",
    "    C_L = \\frac{\\langle x|\\mathcal{H}_L|x\\rangle}{\\langle\\psi|\\psi\\rangle}\n",
    "    \\end{equation}\n",
    "$$\n",
    "and that\n",
    "$$\n",
    "    \\mathcal{H}_L = \\mathbf{A}^\\dagger \\mathbf{U}_b\\left( \\mathbb{I}  - \\frac{1}{n}\\sum_{k=1}^{n}|0_k\\rangle\\langle 0_k|\\otimes \\mathbb{I}_{\\overline{k}}\\right) \\mathbf{U}_b^\\dagger \\mathbf{A}\n",
    "$$\n",
    "we can rewrite the numerator in $(1)$ as\n",
    "$$\n",
    "    \\begin{align*}\n",
    "        \\langle x|\\mathcal{H}_L|x\\rangle &= \\left\\langle x \\Bigg\\vert \\mathbf{A}^\\dagger \\mathbf{U}_b\\left( \\mathbb{I}  - \\frac{1}{n}\\sum_{k=1}^{n} \\underbrace{|0_k\\rangle\\langle 0_k|\\otimes \\mathbb{I}_{\\overline{k}}}_{:= \\mathbf{P}_k}\\right)\\mathbf{U}_b^\\dagger \\mathbf{A} \\Bigg\\vert x\\right\\rangle\\\\\n",
    "        \\\\\n",
    "        &= \\underbrace{\\langle x|\\mathbf{A}^\\dagger}_{=\\langle\\psi|} \\mathbf{U}_b \\mathbf{U}_b^\\dagger \\underbrace{\\mathbf{A}|x\\rangle}_{=|\\psi\\rangle} - \\frac{1}{n} \\sum_{k=1}^{n} \\langle x|\\mathbf{A}^\\dagger\\mathbf{U}_b\\mathbf{P}_k\\mathbf{U}_b^\\dagger\\mathbf{A}|x\\rangle = \\\\\n",
    "\n",
    "        \\\\\n",
    "        &= \\langle \\psi | \\psi \\rangle - \\frac{1}{n} \\sum_{k=1}^{n} \\langle \\psi |\\mathbf{U}_b\\mathbf{P}_k\\mathbf{U}_b^\\dagger|\\psi\\rangle\n",
    "    \\end{align*}\n",
    "$$\n",
    "Then\n",
    "$$\n",
    "    C_L = 1 - \\frac{1}{n\\langle \\psi | \\psi \\rangle}\\sum_{k=1}^{n} \\langle \\psi |\\mathbf{U}_b\\mathbf{P}_k\\mathbf{U}_b^\\dagger|\\psi\\rangle\n",
    "$$\n",
    "We already know how to estimate $\\langle \\psi | \\psi \\rangle$, therefore we only need to understand how to retrieve the addends. In order to do so, let's observe that we can rewrite $|0_k\\rangle\\langle 0_k|$ as $\\frac{\\mathbb{I}_k + \\mathbf{Z}_k}{2}$, meaning that\n",
    "$$\n",
    "    \\begin{align*}\n",
    "        \\langle \\psi |\\mathbf{U}_b\\mathbf{P}_k\\mathbf{U}_b^\\dagger|\\psi\\rangle &= \\langle \\psi |\\mathbf{U}_b\\left(|0_k\\rangle\\langle 0_k|\\otimes \\mathbb{I}_{\\overline{j}}\\right)\\mathbf{U}_b^\\dagger|\\psi\\rangle =\\\\\n",
    "\n",
    "        &= \\langle \\psi |\\mathbf{U}_b\\left(\\frac{\\mathbb{I}_k + \\mathbf{Z}_k}{2}\\otimes \\mathbb{I}_{\\overline{j}}\\right)\\mathbf{U}_b^\\dagger|\\psi\\rangle =\\\\\n",
    "\n",
    "        &= \\frac{1}{2}\\left(\\langle \\psi |\\mathbf{U}_b\\mathbb{I}\\mathbf{U}_b^\\dagger|\\psi\\rangle + \\langle \\psi |\\mathbf{U}_b(\\mathbf{Z}_k\\otimes \\mathbb{I}_{\\overline{j}})\\mathbf{U}_b^\\dagger|\\psi\\rangle \\right) =\\\\\n",
    "\n",
    "        &= \\frac{1}{2}\\left(\\langle \\psi |\\psi\\rangle + \\langle \\psi |\\mathbf{U}_b(\\mathbf{Z}_k\\otimes \\mathbb{I}_{\\overline{j}})\\mathbf{U}_b^\\dagger|\\psi\\rangle \\right)\n",
    "    \n",
    "    \\end{align*}\n",
    "$$\n",
    "Hence\n",
    "$$\n",
    "    \\begin{align*}\n",
    "            C_L &= 1 - \\frac{1}{2n\\langle \\psi | \\psi \\rangle}\\left[\\:\\sum_{k=1}^{n} \\langle \\psi |\\psi\\rangle + \\sum_{k=1}^{n}\\langle \\psi |\\mathbf{U}_b(\\mathbf{Z}_k\\otimes \\mathbb{I}_{\\overline{k}})\\mathbf{U}_b^\\dagger|\\psi\\rangle\\:\\right] = \\\\\n",
    "            \\\\\n",
    "            &= \\frac{1}{2} - \\frac{1}{2n\\langle \\psi | \\psi \\rangle}\\sum_{k=1}^{n}\\langle \\psi |\\mathbf{U}_b(\\mathbf{Z}_k\\otimes \\mathbb{I}_{\\overline{k}})\\mathbf{U}_b^\\dagger|\\psi\\rangle = \\\\\n",
    "            \\\\\n",
    "            &= \\frac{1}{2} - \\frac{1}{2n\\langle \\psi | \\psi \\rangle}\\sum_{k=1}^{n} \\langle 0 |\\mathbf{V}^\\dagger \\mathbf{A}^\\dagger\\mathbf{U}_b(\\mathbf{Z}_k\\otimes \\mathbb{I}_{\\overline{k}})\\mathbf{U}_b^\\dagger\\mathbf{A}\\mathbf{V}|0\\rangle =\\\\\n",
    "            \\\\\n",
    "            &= \\frac{1}{2} - \\frac{1}{2n\\langle \\psi | \\psi \\rangle}\\sum_{k=1}^{n} \\sum_{ij} c_i c^*_j \\langle 0 |\\mathbf{V}^\\dagger \\mathbf{A}^\\dagger_{j}\\mathbf{U}_b(\\mathbf{Z}_k\\otimes \\mathbb{I}_{\\overline{k}})\\mathbf{U}_b^\\dagger\\mathbf{A}_{i}\\mathbf{V}|0\\rangle\n",
    "        \\end{align*}\n",
    "$$\n",
    "We can then apply an Hadamard Test to estimate the terms $\\tilde{\\delta}^{(k)}_{ij}$, such that\n",
    "$$\n",
    "    \\begin{align*}\n",
    "        \\tilde{\\delta}^{(k)}_{ij}=\n",
    "        \\langle 0 |\\mathbf{V}^\\dagger \\mathbf{A}^\\dagger_{j}\\mathbf{U}_b(\\mathbf{Z}_k\\otimes \\mathbb{I}_{\\overline{k}})\\mathbf{U}_b^\\dagger\\mathbf{A}_{i}\\mathbf{V}|0\\rangle \n",
    "    \\end{align*}\n",
    "$$\n",
    "for every $k=1,\\ldots,n$.\n",
    "\n",
    "This concludes our evalutation of the cost function."
   ]
  },
  {
   "cell_type": "markdown",
   "metadata": {},
   "source": [
    "### Hadamard Test for $\\beta_{ij}$"
   ]
  },
  {
   "cell_type": "code",
   "execution_count": 15,
   "metadata": {},
   "outputs": [],
   "source": [
    "## hadamard test to estimate <psi|psi> through beta_ij\n",
    "def hadamard_test_fixed_beta(gates_ai, gates_aj, n, aux_index, parameters, layers, case):\n",
    "\n",
    "    qc = QuantumCircuit(n+1, 1)\n",
    "    qc_qubits = [i for i in range(1, n+1)]\n",
    "\n",
    "    ## first hadamard\n",
    "    qc.h(aux_index)\n",
    "\n",
    "    ## phase gate\n",
    "    if case == 'imaginary':\n",
    "        S_dagger = Operator([[1,0],[0,-1j]])\n",
    "        qc.unitary(S_dagger, aux_index, label='S^*')\n",
    "\n",
    "    ## barrier\n",
    "    qc.barrier()\n",
    "\n",
    "    ## ansatz (V)\n",
    "    qc.compose(build_fixed_ansatz(n=n, layers=layers, \n",
    "                                  parameters=parameters), \n",
    "               qubits=qc_qubits,inplace=True)\n",
    "\n",
    "    ## barrier\n",
    "    qc.barrier()\n",
    "\n",
    "    ## Controlled-A_i\n",
    "    index_count = 1\n",
    "    CAi = QuantumCircuit(n+1, 1)\n",
    "    for pauli in gates_ai:\n",
    "        if pauli == 'Z':\n",
    "            CAi.cz(aux_index, index_count)\n",
    "        elif pauli == 'X':\n",
    "            CAi.cx(aux_index, index_count)\n",
    "        index_count += 1\n",
    "    qc.compose(CAi, inplace=True)\n",
    "    \n",
    "    ## barrier\n",
    "    qc.barrier()\n",
    "\n",
    "    ## Controlled-A_j^dagger\n",
    "    index_count = 1\n",
    "    CAj = QuantumCircuit(n+1, 1)\n",
    "    for pauli in gates_aj:\n",
    "        if pauli == 'Z':\n",
    "            CAj.cz(aux_index, index_count)\n",
    "        elif pauli == 'X':\n",
    "            CAj.cx(aux_index, index_count)\n",
    "        index_count += 1\n",
    "    qc.compose(CAj.inverse(), inplace=True)     # since A_j is unitary, its inverse is the conj. transpose\n",
    "    \n",
    "    ## barrier\n",
    "    qc.barrier()\n",
    "\n",
    "    ## final hadamard\n",
    "    qc.h(aux_index)\n",
    "\n",
    "    ## measure aux\n",
    "    qc.measure(aux_index, 0)\n",
    "\n",
    "    return(qc)"
   ]
  },
  {
   "cell_type": "code",
   "execution_count": 16,
   "metadata": {},
   "outputs": [
    {
     "data": {
      "image/png": "[encoded data removed]",
      "text/plain": [
       "<Figure size 1040x451.5 with 1 Axes>"
      ]
     },
     "execution_count": 16,
     "metadata": {},
     "output_type": "execute_result"
    }
   ],
   "source": [
    "# example\n",
    "qc = hadamard_test_fixed_beta('IIZ','IZX', n, 0, separate_thetas, 1, 'real')\n",
    "qc.draw('mpl')"
   ]
  },
  {
   "cell_type": "markdown",
   "metadata": {},
   "source": [
    "### Hadamard Test for $\\gamma_{ij}$"
   ]
  },
  {
   "cell_type": "code",
   "execution_count": 17,
   "metadata": {},
   "outputs": [],
   "source": [
    "def aux_hadamard_test_fixed_i(n, aux_index, CV, CA, CU, case):\n",
    "\n",
    "    had_i = QuantumCircuit(n+1, 1)\n",
    "\n",
    "    ## first hadamard\n",
    "    had_i.h(aux_index)\n",
    "\n",
    "    ## phase gate\n",
    "    if case == 'imaginary':\n",
    "        S_dagger = Operator([[1,0],[0,-1j]])\n",
    "        had_i.unitary(S_dagger, aux_index, label='S^*')\n",
    "    \n",
    "    ## building\n",
    "    had_i.compose(CV, inplace=True)\n",
    "    had_i.compose(CA, inplace=True)\n",
    "    had_i.compose(CU.inverse(), inplace=True)\n",
    "\n",
    "    ## final hadamard\n",
    "    had_i.h(aux_index)\n",
    "\n",
    "    ## measure aux\n",
    "    had_i.measure(aux_index, 0)\n",
    "\n",
    "    return(had_i)"
   ]
  },
  {
   "cell_type": "code",
   "execution_count": 18,
   "metadata": {},
   "outputs": [],
   "source": [
    "def aux_hadamard_test_fixed_j(n, aux_index, CV, CA, CU, case):\n",
    "\n",
    "    had_j = QuantumCircuit(n+1, 1)\n",
    "\n",
    "    ## first hadamard\n",
    "    had_j.h(aux_index)\n",
    "\n",
    "    ## phase gate\n",
    "    if case == 'imaginary':\n",
    "        S_dagger = Operator([[1,0],[0,-1j]])\n",
    "        had_j.unitary(S_dagger, aux_index, label='S^*')\n",
    "    \n",
    "    ## building\n",
    "    had_j.compose(CU, inplace=True)\n",
    "    had_j.compose(CA.inverse(), inplace=True)\n",
    "    had_j.compose(CV.inverse(), inplace=True)\n",
    "\n",
    "    ## final hadamard\n",
    "    had_j.h(aux_index)\n",
    "\n",
    "    ## measure aux\n",
    "    had_j.measure(aux_index, 0)\n",
    "\n",
    "    return(had_j)"
   ]
  },
  {
   "cell_type": "code",
   "execution_count": 19,
   "metadata": {},
   "outputs": [],
   "source": [
    "## hadamard test to estimate <b|psi> through gamma_ij\n",
    "def hadamard_test_fixed_gamma(gates_ai, gates_aj, n, aux_index, parameters, layers, case):\n",
    "\n",
    "    ## Controlled-V\n",
    "    CV = build_controlled_fixed_ansatz(n=n, layers=layers,\n",
    "                                      n_auxs=1, parameters=parameters)\n",
    "    \n",
    "    ## Controlled-Ub\n",
    "    CUb = build_controlled_Ub_circuit(n)\n",
    "\n",
    "    ## Controlled-A_i\n",
    "    index_count = 1\n",
    "    CAi = QuantumCircuit(n+1, 1)\n",
    "    for pauli in gates_ai:\n",
    "        if pauli == 'Z':\n",
    "            CAi.cz(aux_index, index_count)\n",
    "        elif pauli == 'X':\n",
    "            CAi.cx(aux_index, index_count)\n",
    "        index_count += 1\n",
    "    \n",
    "    ## Controlled-A_j^dagger\n",
    "    index_count = 1\n",
    "    CAj = QuantumCircuit(n+1, 1)\n",
    "    for pauli in gates_aj:\n",
    "        if pauli == 'Z':\n",
    "            CAj.cz(aux_index, index_count)\n",
    "        elif pauli == 'X':\n",
    "            CAj.cx(aux_index, index_count)\n",
    "        index_count += 1\n",
    "\n",
    "    ## First hadamard test\n",
    "    had_i = aux_hadamard_test_fixed_i(n, aux_index, CV, CAi, CUb, case)\n",
    "\n",
    "    ## Second Hadamard test\n",
    "    had_j = aux_hadamard_test_fixed_j(n, aux_index, CV, CAj, CUb, case)\n",
    "    \n",
    "    return(had_i, had_j)"
   ]
  },
  {
   "cell_type": "code",
   "execution_count": 20,
   "metadata": {},
   "outputs": [],
   "source": [
    "had_i, had_j = hadamard_test_fixed_gamma('ZIX', 'XIZ', n, 0, separate_thetas, layers, 'Real')"
   ]
  },
  {
   "cell_type": "code",
   "execution_count": 21,
   "metadata": {},
   "outputs": [
    {
     "data": {
      "image/png": "[encoded data removed]",
      "text/plain": [
       "<Figure size 1876.11x451.5 with 1 Axes>"
      ]
     },
     "execution_count": 21,
     "metadata": {},
     "output_type": "execute_result"
    }
   ],
   "source": [
    "had_i.draw('mpl')"
   ]
  },
  {
   "cell_type": "code",
   "execution_count": 22,
   "metadata": {},
   "outputs": [
    {
     "data": {
      "image/png": "[encoded data removed]",
      "text/plain": [
       "<Figure size 2210.55x953.167 with 1 Axes>"
      ]
     },
     "execution_count": 22,
     "metadata": {},
     "output_type": "execute_result"
    }
   ],
   "source": [
    "had_j.draw('mpl')"
   ]
  },
  {
   "cell_type": "markdown",
   "metadata": {},
   "source": [
    "### Hadamard Test for $\\tilde{\\delta}^{(k)}_{ij}$"
   ]
  },
  {
   "cell_type": "code",
   "execution_count": 23,
   "metadata": {},
   "outputs": [],
   "source": [
    "## hadamard test to estimate delta^(k)_ij\n",
    "def hadamard_test_fixed_delta_k(k, gates_ai, gates_aj, n, aux_index, parameters, layers, case):\n",
    "\n",
    "    qc = QuantumCircuit(n+1, 1)\n",
    "    qc_qubits = [i for i in range(1, n+1)]\n",
    "\n",
    "    ## first hadamard\n",
    "    qc.h(aux_index)\n",
    "\n",
    "    ## phase gate\n",
    "    if case == 'imaginary':\n",
    "        S_dagger = Operator([[1,0],[0,-1j]])\n",
    "        qc.unitary(S_dagger, aux_index, label='S^*')\n",
    "\n",
    "    ## ansatz (V)\n",
    "    qc.compose(build_fixed_ansatz(n=n, layers=layers, \n",
    "                                  parameters=parameters), \n",
    "               qubits=qc_qubits,inplace=True)\n",
    "\n",
    "    ## barrier\n",
    "    qc.barrier()\n",
    "\n",
    "    ## Controlled-A_i\n",
    "    index_count = 1\n",
    "    CAi = QuantumCircuit(n+1, 1)\n",
    "    for pauli in gates_ai:\n",
    "        if pauli == 'Z':\n",
    "            CAi.cz(aux_index, index_count)\n",
    "        elif pauli == 'X':\n",
    "            CAi.cx(aux_index, index_count)\n",
    "        index_count += 1\n",
    "    qc.compose(CAi, inplace=True)\n",
    "\n",
    "    ## barrier\n",
    "    qc.barrier()\n",
    "\n",
    "    ## Ub^dagger circuit\n",
    "    qc.compose(build_Ub_circuit(n).inverse(), qubits=qc_qubits, inplace=True)\n",
    "\n",
    "    ## barrier\n",
    "    qc.barrier()\n",
    "    \n",
    "    ## Reduced controlled-B = CZ on qubit k\n",
    "    qc.cz(aux_index, k+1)\n",
    "\n",
    "    ## barrier\n",
    "    qc.barrier()\n",
    "\n",
    "    ## Ub circuit\n",
    "    qc.compose(build_Ub_circuit(n), qubits=qc_qubits, inplace=True)\n",
    "\n",
    "    ## barrier\n",
    "    qc.barrier()\n",
    "\n",
    "    ## Controlled-A_j^dagger\n",
    "    index_count = 1\n",
    "    CAj = QuantumCircuit(n+1, 1)\n",
    "    for pauli in gates_aj:\n",
    "        if pauli == 'Z':\n",
    "            CAj.cz(aux_index, index_count)\n",
    "        elif pauli == 'X':\n",
    "            CAj.cx(aux_index, index_count)\n",
    "        index_count += 1\n",
    "    qc.compose(CAj.inverse(), inplace=True)\n",
    "    \n",
    "    ## barrier\n",
    "    qc.barrier()\n",
    "\n",
    "    ## final hadamard\n",
    "    qc.h(aux_index)\n",
    "\n",
    "    ## measure aux\n",
    "    qc.measure(aux_index, 0)\n",
    "\n",
    "    return(qc)\n"
   ]
  },
  {
   "cell_type": "code",
   "execution_count": 24,
   "metadata": {},
   "outputs": [
    {
     "data": {
      "image/png": "[encoded data removed]",
      "text/plain": [
       "<Figure size 1876.11x451.5 with 1 Axes>"
      ]
     },
     "execution_count": 24,
     "metadata": {},
     "output_type": "execute_result"
    }
   ],
   "source": [
    "delta_k = hadamard_test_fixed_delta_k(2, 'IIX', 'XIZ', n, 0, separate_thetas, layers, 'Real')\n",
    "delta_k.draw('mpl')"
   ]
  },
  {
   "cell_type": "markdown",
   "metadata": {},
   "source": [
    "### Cost Evaluation"
   ]
  },
  {
   "cell_type": "markdown",
   "metadata": {},
   "source": [
    "We can now try to evaluate our cost function, without any optimization.\n",
    "\n",
    "In order to do so, we define a few auxiliary functions that will compute the aforementioned terms through the Hadamard tests and will output the parts we need to evaluate our cost function.\n",
    "\n",
    "The circuits for the Hadamard Tests, for now, will all be run on simulator for a certain number of times (=`num_shots`) and, from this results, we will then calculate the quasi-distribution of measuring $1$. This quasi-distribution is necessary as we will estimate our $\\beta_{ij}$, $\\gamma_{ij}$, and $\\tilde{\\delta}^{(k)}_{ij}$ using the fact that\n",
    "$$\n",
    "    \\mathbb{P}(1) = \\frac{1-\\Re(\\beta_{ij})}{2}\n",
    "$$\n",
    "i.e.\n",
    "$$\n",
    "    \\Re(\\beta_{ij}) = 1 - 2\\mathbb{P}(1)\n",
    "$$\n",
    "and similarly for $\\gamma_{ij},\\tilde{\\delta}^{(k)}_{ij}$."
   ]
  },
  {
   "cell_type": "markdown",
   "metadata": {},
   "source": [
    "#### Global cost evaluation"
   ]
  },
  {
   "cell_type": "markdown",
   "metadata": {},
   "source": [
    "When working with a small number of qubits, like in this example, using a global cost function may not hinder our search, so let's implement it and give it a try!"
   ]
  },
  {
   "cell_type": "code",
   "execution_count": 25,
   "metadata": {},
   "outputs": [],
   "source": [
    "def get_psi_dot_psi(n, layers, paulis_list, paulis_coeffs, parameters):\n",
    "\n",
    "    dotprod = 0\n",
    "    num_paulis = len(paulis_list)\n",
    "\n",
    "    for i in range(num_paulis):\n",
    "        for j in range(num_paulis):\n",
    "\n",
    "            qreg = QuantumRegister(n+1, name='q')\n",
    "            creg = ClassicalRegister(1, name='c')\n",
    "            qc = QuantumCircuit(qreg, creg)\n",
    "\n",
    "            num_shots = 100000\n",
    "            backend = Aer.get_backend('aer_simulator', num_shots = num_shots)\n",
    "\n",
    "            cc = paulis_coeffs[i]*paulis_coeffs[j]\n",
    "            # technically, c_j should be complex conjugated, \n",
    "            # but our coeffs are always real\n",
    "\n",
    "            qc.compose(hadamard_test_fixed_beta(gates_ai=paulis_list[i], gates_aj=paulis_list[j],\n",
    "                                                n=n, aux_index=0, parameters=parameters,\n",
    "                                                layers=layers, case='Real'), \n",
    "                       inplace=True)   \n",
    "            \n",
    "            transpiled_qc = transpile(qc, backend)\n",
    "            result = backend.run(transpiled_qc).result()\n",
    "            \n",
    "            outputstate = result.get_counts()\n",
    "            #print(f'Output state:{outputstate}')\n",
    "\n",
    "            prob1 = 0\n",
    "            if '1' in outputstate.keys():\n",
    "                prob1 = float(outputstate['1'])/num_shots\n",
    "            beta_ij = 1-2*prob1\n",
    "            \n",
    "            dotprod += cc*beta_ij\n",
    "\n",
    "    return(dotprod)"
   ]
  },
  {
   "cell_type": "code",
   "execution_count": 26,
   "metadata": {},
   "outputs": [],
   "source": [
    "def get_b_dot_psi_global(n, layers, paulis, coeffs, parameters):\n",
    "\n",
    "    dotprod = 0\n",
    "\n",
    "    for i in range(len(paulis)):\n",
    "        for j in range(len(paulis)):\n",
    "\n",
    "            cc = coeffs[i]*coeffs[j]\n",
    "\n",
    "            had_i, had_j = hadamard_test_fixed_gamma(paulis[i], paulis[j], n,\n",
    "                                                     0, parameters, layers, 'Real')\n",
    "            \n",
    "            num_shots = 100000\n",
    "            backend = Aer.get_backend('aer_simulator', num_shots=num_shots)\n",
    "\n",
    "            t_had_i = transpile(had_i, backend)\n",
    "            t_had_j = transpile(had_j, backend)\n",
    "\n",
    "            result_i = backend.run(t_had_i).result()\n",
    "            result_j = backend.run(t_had_j).result()\n",
    "\n",
    "            outputstate_i = result_i.get_counts()\n",
    "            outputstate_j = result_j.get_counts()\n",
    "\n",
    "            prob1_i = 0\n",
    "            if '1' in outputstate_i.keys():\n",
    "                prob1_i = float(outputstate_i['1'])/num_shots\n",
    "            ph_i = 1-2*prob1_i\n",
    "\n",
    "            prob1_j = 0\n",
    "            if '1' in outputstate_j.keys():\n",
    "                prob1_j = float(outputstate_j['1'])/num_shots\n",
    "            ph_j = 1-2*prob1_j\n",
    "\n",
    "            gamma_ij = ph_i*ph_j\n",
    "\n",
    "            dotprod += cc*gamma_ij\n",
    "\n",
    "    return(dotprod)"
   ]
  },
  {
   "cell_type": "code",
   "execution_count": 27,
   "metadata": {},
   "outputs": [],
   "source": [
    "def global_cost_function(parameters):\n",
    "    \n",
    "    ## variables\n",
    "    global n, layers, paulis, coeffs, it, global_cost_plot\n",
    "\n",
    "    parameters = separate_parameters(parameters,layers)    \n",
    "\n",
    "    ## psi_psi\n",
    "    psi_psi = get_psi_dot_psi(n=n, layers=layers, paulis_list=paulis,\n",
    "                                        paulis_coeffs=coeffs,\n",
    "                                        parameters=parameters)\n",
    "\n",
    "    ## |b_psi|^2\n",
    "    b_psi = get_b_dot_psi_global(n, layers, paulis, coeffs, parameters)\n",
    "\n",
    "    ## estimate\n",
    "    num = np.real(b_psi)\n",
    "    den = np.real(psi_psi)\n",
    "    estimate = 1 - float(num/den)\n",
    "\n",
    "    #print(f'psipsi = {psi_psi}, |bpsi|^2 = {b_psi}')\n",
    "    print(f'Iteration: {it} \\t Cost evaluation: {estimate}')\n",
    "    global_cost_plot.append(estimate)\n",
    "\n",
    "    it += 1\n",
    "\n",
    "    return(estimate)"
   ]
  },
  {
   "cell_type": "markdown",
   "metadata": {},
   "source": [
    "To evaluate our cost function, we need to define a starting point from which we will later optimize our parameters: having calculated the total number of parameters in our ansatz, we then call the function `randint` from Numpy to generate random integer values for each one of them and store this values in a generic list.\n",
    "\n",
    "Other common initialization can be implemented for comparison, just comment/decomment lines in the following cell."
   ]
  },
  {
   "cell_type": "code",
   "execution_count": 28,
   "metadata": {},
   "outputs": [
    {
     "name": "stdout",
     "output_type": "stream",
     "text": [
      "Starting point:[0.9364074341154939, 0.9131020711183478, 0.08296006318230842, 0.8470869568663965, 0.5159052029041769, 0.17801566765683308, 0.9385510835514878, 0.1295043776056809, 0.7465684949732401]\n"
     ]
    }
   ],
   "source": [
    "## starting point\n",
    "\n",
    "#initial_theta = [np.random.normal(0,1) for _ in range(0, num_thetas)]              ## normal initialization\n",
    "initial_theta = [np.random.rand() for _ in range(0, num_thetas)]                    ## random initialization\n",
    "\n",
    "#initial_theta = [0 for _ in range(0, num_thetas)]                                  ## all zeros initialization\n",
    "#initial_theta = [1/N for _ in range(0, num_thetas)]                                ## uniform initialization\n",
    "\n",
    "print(f'Starting point:{initial_theta}')"
   ]
  },
  {
   "cell_type": "markdown",
   "metadata": {},
   "source": [
    "We also define an auxiliary list to save cost evaluations for every iteration so as to plot them after the optimization.\n",
    "\n",
    "Let's try a first evaluation:"
   ]
  },
  {
   "cell_type": "code",
   "execution_count": 29,
   "metadata": {},
   "outputs": [
    {
     "name": "stdout",
     "output_type": "stream",
     "text": [
      "Iteration: 0 \t Cost evaluation: 0.006975804125570861\n"
     ]
    },
    {
     "data": {
      "text/plain": [
       "0.006975804125570861"
      ]
     },
     "execution_count": 29,
     "metadata": {},
     "output_type": "execute_result"
    }
   ],
   "source": [
    "it = 0\n",
    "global_cost_plot = []\n",
    "\n",
    "global_cost_function(initial_theta)"
   ]
  },
  {
   "cell_type": "markdown",
   "metadata": {},
   "source": [
    "### Local cost evaluation"
   ]
  },
  {
   "cell_type": "markdown",
   "metadata": {},
   "source": [
    "Similarly, we can implement our local cost function:"
   ]
  },
  {
   "cell_type": "code",
   "execution_count": 30,
   "metadata": {},
   "outputs": [],
   "source": [
    "def get_b_dot_psi_local(k, n, layers, paulis_list, paulis_coeffs, parameters):\n",
    "\n",
    "    dotprod = 0\n",
    "    num_paulis = len(paulis_list)\n",
    "\n",
    "    for i in range(num_paulis):\n",
    "        for j in range(num_paulis):\n",
    "\n",
    "            qreg = QuantumRegister(n+1, name='q')\n",
    "            creg = ClassicalRegister(1, name='c')\n",
    "            qc = QuantumCircuit(qreg, creg)\n",
    "\n",
    "            num_shots = 100000\n",
    "            backend = Aer.get_backend('aer_simulator', num_shots = num_shots)\n",
    "\n",
    "            cc = paulis_coeffs[i]*paulis_coeffs[j]\n",
    "            # technically, c_j should be complex conjugated, \n",
    "            # but our coeffs are always real\n",
    "\n",
    "            qc.compose(hadamard_test_fixed_delta_k(k=k, gates_ai=paulis_list[i],\n",
    "                                                   gates_aj=paulis_list[j], n=n,\n",
    "                                                   aux_index=0, parameters=parameters,\n",
    "                                                   layers=layers, case='Real'), \n",
    "                       inplace=True)   \n",
    "            \n",
    "            transpiled_qc = transpile(qc, backend)\n",
    "            result = backend.run(transpiled_qc).result()\n",
    "            \n",
    "            outputstate = result.get_counts()\n",
    "            #print(f'Output state:{outputstate}')\n",
    "\n",
    "            prob1 = 0\n",
    "            if '1' in outputstate.keys():\n",
    "                prob1 = float(outputstate['1'])/num_shots\n",
    "            delta_k_ij = 1-2*prob1\n",
    "            \n",
    "            \n",
    "            dotprod += cc*delta_k_ij\n",
    "\n",
    "    return(dotprod)"
   ]
  },
  {
   "cell_type": "code",
   "execution_count": 31,
   "metadata": {},
   "outputs": [],
   "source": [
    "def local_cost_function(parameters):\n",
    "    \n",
    "    ## variables\n",
    "    global n, layers, paulis, coeffs, local_cost_plot, it\n",
    "\n",
    "    parameters = separate_parameters(parameters,layers)    \n",
    "\n",
    "    ## psi_psi\n",
    "    psi_psi = get_psi_dot_psi(n=n, layers=layers, paulis_list=paulis,\n",
    "                                        paulis_coeffs=coeffs,\n",
    "                                        parameters=parameters)\n",
    "\n",
    "    ## local_b_psi\n",
    "    local_b_psi = 0\n",
    "    for k in range(n):\n",
    "        ccdelta_k = get_b_dot_psi_local(k, n, layers, paulis,\n",
    "                                        coeffs, parameters)\n",
    "        local_b_psi += ccdelta_k\n",
    "\n",
    "    ## estimate\n",
    "    num = np.real(local_b_psi)\n",
    "    den = np.real(2*n*psi_psi)\n",
    "    estimate = .5 - float(num/den)\n",
    "\n",
    "    ## saving cost for plotting\n",
    "    local_cost_plot.append(estimate)\n",
    "\n",
    "    ## printing\n",
    "    #print(f'psipsi = {psi_psi}, bpsi_loc = {local_b_psi}')\n",
    "    print(f'Iteration {it} \\t Cost evaluation: {estimate}')\n",
    "    \n",
    "    it += 1\n",
    "\n",
    "    return(estimate)"
   ]
  },
  {
   "cell_type": "code",
   "execution_count": 32,
   "metadata": {},
   "outputs": [
    {
     "name": "stdout",
     "output_type": "stream",
     "text": [
      "Iteration 0 \t Cost evaluation: 0.0020989041518876816\n"
     ]
    }
   ],
   "source": [
    "it = 0\n",
    "local_cost_plot = []\n",
    "\n",
    "ph_out = local_cost_function(initial_theta)"
   ]
  },
  {
   "cell_type": "markdown",
   "metadata": {},
   "source": [
    "## Step 4: parameters optimization "
   ]
  },
  {
   "cell_type": "markdown",
   "metadata": {},
   "source": [
    "We now need to optimize our parameters using our cost function and our starting point. To do so, we will use Scipy `minimize` and the `COBYLA` optimizer."
   ]
  },
  {
   "cell_type": "markdown",
   "metadata": {},
   "source": [
    "### Global cost function"
   ]
  },
  {
   "cell_type": "code",
   "execution_count": 33,
   "metadata": {},
   "outputs": [
    {
     "name": "stdout",
     "output_type": "stream",
     "text": [
      "Iteration: 0 \t Cost evaluation: 0.006841227953759188\n",
      "Iteration: 1 \t Cost evaluation: 0.012695679893644396\n",
      "Iteration: 2 \t Cost evaluation: 0.007010978787068356\n",
      "Iteration: 3 \t Cost evaluation: 0.006281997509747228\n",
      "Iteration: 4 \t Cost evaluation: 0.011106328122665876\n",
      "Iteration: 5 \t Cost evaluation: 0.007412180388867373\n",
      "Iteration: 6 \t Cost evaluation: 0.010140117375170843\n",
      "Iteration: 7 \t Cost evaluation: 0.009410018974195578\n",
      "Iteration: 8 \t Cost evaluation: 0.008431000356367013\n",
      "Iteration: 9 \t Cost evaluation: 0.007893292047446154\n",
      "Iteration: 10 \t Cost evaluation: 0.0039575833749764255\n",
      "Iteration: 11 \t Cost evaluation: 0.006923474008528774\n",
      "Iteration: 12 \t Cost evaluation: 0.004563860533026931\n",
      "Iteration: 13 \t Cost evaluation: 0.0066835066775935426\n",
      "Iteration: 14 \t Cost evaluation: 0.004670042820895337\n",
      "Iteration: 15 \t Cost evaluation: 0.004155529552736459\n",
      "Iteration: 16 \t Cost evaluation: 0.0042392638027386464\n",
      "Iteration: 17 \t Cost evaluation: 0.004208884529581236\n",
      "Iteration: 18 \t Cost evaluation: 0.0036491425900888608\n",
      "Iteration: 19 \t Cost evaluation: 0.003716003647507793\n",
      "Iteration: 20 \t Cost evaluation: 0.00436711106269172\n",
      "Iteration: 21 \t Cost evaluation: 0.003897404639045088\n",
      "Iteration: 22 \t Cost evaluation: 0.00392648868481793\n",
      "Iteration: 23 \t Cost evaluation: 0.004180261967044019\n",
      "Iteration: 24 \t Cost evaluation: 0.003401879145823794\n",
      "Iteration: 25 \t Cost evaluation: 0.003560236452296528\n",
      "Iteration: 26 \t Cost evaluation: 0.0037919750905202054\n",
      "Iteration: 27 \t Cost evaluation: 0.003693354543264249\n",
      "Iteration: 28 \t Cost evaluation: 0.0036156747399289646\n",
      "Iteration: 29 \t Cost evaluation: 0.003314344398306135\n",
      "Iteration: 30 \t Cost evaluation: 0.0036669095672448027\n",
      "Iteration: 31 \t Cost evaluation: 0.0034938781588989\n",
      "Iteration: 32 \t Cost evaluation: 0.0037682958149961587\n",
      "Iteration: 33 \t Cost evaluation: 0.0034993317114297984\n",
      "Iteration: 34 \t Cost evaluation: 0.003667909556984039\n",
      "Iteration: 35 \t Cost evaluation: 0.0036679794225354945\n",
      "Iteration: 36 \t Cost evaluation: 0.003608260267281671\n",
      "Iteration: 37 \t Cost evaluation: 0.0035665980044939927\n",
      "Iteration: 38 \t Cost evaluation: 0.0035882873754147226\n",
      "Iteration: 39 \t Cost evaluation: 0.003664304263697904\n",
      "Iteration: 40 \t Cost evaluation: 0.0037439169500601555\n",
      "Iteration: 41 \t Cost evaluation: 0.003587999726713642\n",
      "Iteration: 42 \t Cost evaluation: 0.0035922364051423905\n",
      "Iteration: 43 \t Cost evaluation: 0.0034211528197880536\n",
      "Iteration: 44 \t Cost evaluation: 0.00369906115313845\n",
      "Iteration: 45 \t Cost evaluation: 0.0035424645859624126\n",
      "Iteration: 46 \t Cost evaluation: 0.003693025321046095\n",
      "Iteration: 47 \t Cost evaluation: 0.0037313993449277216\n",
      "Iteration: 48 \t Cost evaluation: 0.0038995615940254913\n",
      "Iteration: 49 \t Cost evaluation: 0.0034713002257669157\n",
      "Iteration: 50 \t Cost evaluation: 0.0035294107595601476\n",
      "Iteration: 51 \t Cost evaluation: 0.0038343242061998906\n",
      "Iteration: 52 \t Cost evaluation: 0.003627950379039846\n",
      "Iteration: 53 \t Cost evaluation: 0.003499866223086401\n",
      "Iteration: 54 \t Cost evaluation: 0.003713904460216244\n",
      "Iteration: 55 \t Cost evaluation: 0.003628394287876313\n",
      "Iteration: 56 \t Cost evaluation: 0.003404595446119485\n",
      "Iteration: 57 \t Cost evaluation: 0.0036794854334909477\n",
      "Iteration: 58 \t Cost evaluation: 0.0033538029401387615\n",
      "Iteration: 59 \t Cost evaluation: 0.0036168533707073847\n",
      "Iteration: 60 \t Cost evaluation: 0.003624931978221557\n",
      "Iteration: 61 \t Cost evaluation: 0.003535221287617296\n",
      "Iteration: 62 \t Cost evaluation: 0.003498375231311801\n",
      "Iteration: 63 \t Cost evaluation: 0.0036570453427619\n",
      "Iteration: 64 \t Cost evaluation: 0.003694571120984258\n",
      "Iteration: 65 \t Cost evaluation: 0.003770123373689205\n",
      "Iteration: 66 \t Cost evaluation: 0.0034909368013126274\n",
      "Iteration: 67 \t Cost evaluation: 0.0035392679143703143\n",
      "Iteration: 68 \t Cost evaluation: 0.0038572769983162836\n",
      "Iteration: 69 \t Cost evaluation: 0.0036159191318095862\n",
      "Iteration: 70 \t Cost evaluation: 0.0035449752333461815\n",
      "Iteration: 71 \t Cost evaluation: 0.003547330719819275\n",
      "Iteration: 72 \t Cost evaluation: 0.003623578931835847\n",
      "Iteration: 73 \t Cost evaluation: 0.003640733809983865\n",
      "Iteration: 74 \t Cost evaluation: 0.003601188006244316\n",
      "Iteration: 75 \t Cost evaluation: 0.0033916033279534075\n",
      "Iteration: 76 \t Cost evaluation: 0.0032381275224870887\n",
      "Iteration: 77 \t Cost evaluation: 0.003397634909574232\n",
      "Iteration: 78 \t Cost evaluation: 0.0034486305593595112\n",
      "Iteration: 79 \t Cost evaluation: 0.0037899758216759505\n",
      "Iteration: 80 \t Cost evaluation: 0.003612109236554195\n",
      "Iteration: 81 \t Cost evaluation: 0.003846388129512879\n",
      "Iteration: 82 \t Cost evaluation: 0.003494751363222859\n",
      "Iteration: 83 \t Cost evaluation: 0.0036831675813527864\n",
      "Iteration: 84 \t Cost evaluation: 0.0035781733453860154\n"
     ]
    }
   ],
   "source": [
    "it = 0\n",
    "global_cost_plot = []\n",
    "\n",
    "optmized_params_global = minimize(global_cost_function,\n",
    "                           x0=initial_theta,\n",
    "                           method='COBYLA',  options={'maxiter':200})"
   ]
  },
  {
   "cell_type": "code",
   "execution_count": 34,
   "metadata": {},
   "outputs": [
    {
     "data": {
      "text/plain": [
       "     fun: 0.0035781733453860154\n",
       "   maxcv: 0.0\n",
       " message: 'Optimization terminated successfully.'\n",
       "    nfev: 85\n",
       "  status: 1\n",
       " success: True\n",
       "       x: array([ 0.36128254,  0.90565275,  1.31649445,  0.41735396,  0.21348994,\n",
       "       -0.19165913,  0.55041043,  0.20306157,  0.80134652])"
      ]
     },
     "execution_count": 34,
     "metadata": {},
     "output_type": "execute_result"
    }
   ],
   "source": [
    "optmized_params_global"
   ]
  },
  {
   "cell_type": "code",
   "execution_count": 35,
   "metadata": {},
   "outputs": [
    {
     "data": {
      "text/plain": [
       "[array([0.36128254, 0.90565275, 1.31649445]),\n",
       " [array([ 0.41735396,  0.21348994, -0.19165913]),\n",
       "  array([0.55041043, 0.20306157, 0.80134652])]]"
      ]
     },
     "execution_count": 35,
     "metadata": {},
     "output_type": "execute_result"
    }
   ],
   "source": [
    "opt_thetas_global = separate_parameters(optmized_params_global.x, layers)\n",
    "opt_thetas_global"
   ]
  },
  {
   "cell_type": "code",
   "execution_count": 36,
   "metadata": {},
   "outputs": [
    {
     "data": {
      "image/png": "[encoded data removed]",
      "text/plain": [
       "<Figure size 705.552x367.889 with 1 Axes>"
      ]
     },
     "metadata": {},
     "output_type": "display_data"
    },
    {
     "name": "stdout",
     "output_type": "stream",
     "text": [
      "Estimate of |x>:\n",
      "[ 0.30075226+0.j  0.32959845+0.j  0.5217123 +0.j  0.17833511+0.j\n",
      "  0.62921306+0.j  0.29373334+0.j -0.03420138+0.j  0.11648051+0.j]\n"
     ]
    }
   ],
   "source": [
    "circ = QuantumCircuit(n, n)\n",
    "circ.compose(build_fixed_ansatz(n, layers, opt_thetas_global),\n",
    "             inplace=True)\n",
    "display(circ.draw('mpl'))\n",
    "\n",
    "backend = Aer.get_backend('aer_simulator')\n",
    "\n",
    "circ.save_statevector()\n",
    "t_circ = transpile(circ, backend)\n",
    "result = backend.run(t_circ).result()\n",
    "\n",
    "statevec_global = result.get_statevector(circ, decimals=10).data\n",
    "print(f'Estimate of |x>:\\n{statevec_global}')"
   ]
  },
  {
   "cell_type": "code",
   "execution_count": 37,
   "metadata": {},
   "outputs": [
    {
     "name": "stdout",
     "output_type": "stream",
     "text": [
      "Estimate of |Psi>:\n",
      "[ 0.45492739  0.49856105  0.4340372   0.14836543  0.52347218  0.24437069\n",
      " -0.00517341  0.01761921]\n",
      "\n",
      "State |b>:\n",
      "[0.35355339 0.35355339 0.35355339 0.35355339 0.35355339 0.35355339\n",
      " 0.35355339 0.35355339]\n",
      "\n",
      "Accuracy:0.6705860767336371\n"
     ]
    }
   ],
   "source": [
    "## |psi> estimate\n",
    "psi = np.real(np.dot(A_matrix, statevec_global))\n",
    "psi /= np.linalg.norm(psi)\n",
    "print(f'Estimate of |Psi>:\\n{psi}\\n')\n",
    "\n",
    "## |b>\n",
    "b_vec = [1 for _ in range(2**n)]\n",
    "b_vec /= np.sqrt(2**n)\n",
    "print(f'State |b>:\\n{b_vec}\\n')\n",
    "\n",
    "## accuracy\n",
    "global_accuracy = (np.dot(b_vec,psi))**2\n",
    "print(f'Accuracy:{global_accuracy}')"
   ]
  },
  {
   "cell_type": "markdown",
   "metadata": {},
   "source": [
    "Let's plot our cost function with respect to the number of iterations:"
   ]
  },
  {
   "cell_type": "code",
   "execution_count": 38,
   "metadata": {},
   "outputs": [
    {
     "data": {
      "image/png": "[encoded data removed]",
      "text/plain": [
       "<Figure size 800x550 with 1 Axes>"
      ]
     },
     "metadata": {},
     "output_type": "display_data"
    }
   ],
   "source": [
    "plt.style.use(\"seaborn-v0_8-notebook\")\n",
    "plt.plot(global_cost_plot, \"g\")\n",
    "plt.ylabel(\"Cost function\")\n",
    "plt.xlabel(\"Optimization steps\")\n",
    "plt.show()"
   ]
  },
  {
   "cell_type": "markdown",
   "metadata": {},
   "source": [
    "### Local cost function"
   ]
  },
  {
   "cell_type": "code",
   "execution_count": 45,
   "metadata": {},
   "outputs": [
    {
     "name": "stdout",
     "output_type": "stream",
     "text": [
      "Iteration 0 \t Cost evaluation: 0.0021403854951539403\n",
      "Iteration 1 \t Cost evaluation: 0.004534479094586541\n",
      "Iteration 2 \t Cost evaluation: 0.0016579710190126606\n",
      "Iteration 3 \t Cost evaluation: 0.0016770860301913437\n",
      "Iteration 4 \t Cost evaluation: 0.001748009369118897\n",
      "Iteration 5 \t Cost evaluation: 0.002159633736646571\n",
      "Iteration 6 \t Cost evaluation: 0.0020588621339120983\n",
      "Iteration 7 \t Cost evaluation: 0.001740140623937625\n",
      "Iteration 8 \t Cost evaluation: 0.0022728180103308016\n",
      "Iteration 9 \t Cost evaluation: 0.0008505080022441214\n",
      "Iteration 10 \t Cost evaluation: 0.0001077889997253556\n",
      "Iteration 11 \t Cost evaluation: 0.0001301438650621045\n",
      "Iteration 12 \t Cost evaluation: 9.335081018307934e-05\n",
      "Iteration 13 \t Cost evaluation: 0.00016050104698633882\n",
      "Iteration 14 \t Cost evaluation: 3.467110722688016e-05\n",
      "Iteration 15 \t Cost evaluation: 7.835392301713817e-05\n",
      "Iteration 16 \t Cost evaluation: 0.0003154577090866417\n",
      "Iteration 17 \t Cost evaluation: 5.38187384384603e-05\n",
      "Iteration 18 \t Cost evaluation: 0.0005291154256837349\n",
      "Iteration 19 \t Cost evaluation: 0.0001258335899714802\n",
      "Iteration 20 \t Cost evaluation: 2.7728162577289606e-05\n",
      "Iteration 21 \t Cost evaluation: 0.00022149108426300357\n",
      "Iteration 22 \t Cost evaluation: 0.00022919856027420193\n",
      "Iteration 23 \t Cost evaluation: 3.22249433836741e-05\n",
      "Iteration 24 \t Cost evaluation: 0.0003960163833265917\n",
      "Iteration 25 \t Cost evaluation: 4.160954218340729e-05\n",
      "Iteration 26 \t Cost evaluation: 3.855982450728934e-06\n",
      "Iteration 27 \t Cost evaluation: 9.757800225945745e-05\n",
      "Iteration 28 \t Cost evaluation: 5.345546946700086e-05\n",
      "Iteration 29 \t Cost evaluation: 2.171537693729242e-05\n",
      "Iteration 30 \t Cost evaluation: 5.884029856906281e-06\n",
      "Iteration 31 \t Cost evaluation: 5.825694676575566e-05\n",
      "Iteration 32 \t Cost evaluation: 1.7920235755752856e-05\n",
      "Iteration 33 \t Cost evaluation: 3.275115292833419e-05\n",
      "Iteration 34 \t Cost evaluation: 8.500662354493649e-05\n",
      "Iteration 35 \t Cost evaluation: -4.5495864017031096e-05\n",
      "Iteration 36 \t Cost evaluation: 8.412438508548226e-05\n",
      "Iteration 37 \t Cost evaluation: 2.1754953042130154e-05\n",
      "Iteration 38 \t Cost evaluation: 3.0709018882801864e-05\n",
      "Iteration 39 \t Cost evaluation: 3.541169256393584e-05\n",
      "Iteration 40 \t Cost evaluation: -2.762293820124384e-06\n",
      "Iteration 41 \t Cost evaluation: -8.285339588520735e-06\n",
      "Iteration 42 \t Cost evaluation: -1.80661477147126e-05\n",
      "Iteration 43 \t Cost evaluation: -5.960595669707303e-06\n",
      "Iteration 44 \t Cost evaluation: 3.0152470861077862e-05\n",
      "Iteration 45 \t Cost evaluation: -2.1169063487702644e-05\n",
      "Iteration 46 \t Cost evaluation: 4.369796958059169e-05\n",
      "Iteration 47 \t Cost evaluation: -7.00537392972489e-06\n",
      "Iteration 48 \t Cost evaluation: 2.7619356537167405e-05\n",
      "Iteration 49 \t Cost evaluation: 5.62703461701175e-05\n",
      "Iteration 50 \t Cost evaluation: 4.345442463299376e-05\n",
      "Iteration 51 \t Cost evaluation: 7.689525200904601e-05\n",
      "Iteration 52 \t Cost evaluation: 5.5388223988983576e-05\n",
      "Iteration 53 \t Cost evaluation: 2.738669619095635e-05\n",
      "Iteration 54 \t Cost evaluation: 4.1937871741004606e-05\n",
      "Iteration 55 \t Cost evaluation: 3.541276285812245e-05\n",
      "Iteration 56 \t Cost evaluation: 9.296582019563404e-05\n",
      "Iteration 57 \t Cost evaluation: 3.91592033727739e-05\n",
      "Iteration 58 \t Cost evaluation: 3.4369870738126806e-05\n",
      "Iteration 59 \t Cost evaluation: 9.184756819380357e-06\n",
      "Iteration 60 \t Cost evaluation: 0.00010653070654997876\n",
      "Iteration 61 \t Cost evaluation: 6.009397791906235e-05\n",
      "Iteration 62 \t Cost evaluation: 3.4223413464040675e-05\n",
      "Iteration 63 \t Cost evaluation: 4.986626991104748e-05\n",
      "Iteration 64 \t Cost evaluation: 2.4365425712546962e-05\n",
      "Iteration 65 \t Cost evaluation: -1.8177108888073334e-06\n",
      "Iteration 66 \t Cost evaluation: 6.536502207721284e-06\n",
      "Iteration 67 \t Cost evaluation: 6.391488766116504e-05\n",
      "Iteration 68 \t Cost evaluation: 4.772009504333541e-05\n",
      "Iteration 69 \t Cost evaluation: -1.1388159311120916e-05\n",
      "Iteration 70 \t Cost evaluation: 3.8269234490295734e-05\n",
      "Iteration 71 \t Cost evaluation: 3.399780111779105e-05\n",
      "Iteration 72 \t Cost evaluation: 5.3071169622775916e-05\n",
      "Iteration 73 \t Cost evaluation: 3.2911290423098816e-05\n",
      "Iteration 74 \t Cost evaluation: 4.4905924591442936e-05\n",
      "Iteration 75 \t Cost evaluation: -2.5974046192756006e-05\n",
      "Iteration 76 \t Cost evaluation: 4.405587642508646e-05\n",
      "Iteration 77 \t Cost evaluation: 3.0060177407920108e-05\n",
      "Iteration 78 \t Cost evaluation: 4.8987740742190145e-05\n",
      "Iteration 79 \t Cost evaluation: 7.992465846556884e-05\n",
      "Iteration 80 \t Cost evaluation: 6.817765843969426e-05\n",
      "Iteration 81 \t Cost evaluation: 2.6522145859242396e-05\n",
      "Iteration 82 \t Cost evaluation: 1.5700404490281983e-05\n",
      "Iteration 83 \t Cost evaluation: 2.964683286604819e-05\n",
      "Iteration 84 \t Cost evaluation: 6.054927360954476e-05\n",
      "Iteration 85 \t Cost evaluation: 7.157055097817278e-05\n",
      "Iteration 86 \t Cost evaluation: -1.333912259759984e-06\n",
      "Iteration 87 \t Cost evaluation: -6.5283688427397735e-06\n"
     ]
    }
   ],
   "source": [
    "it = 0\n",
    "local_cost_plot = []\n",
    "\n",
    "optmized_params_local = minimize(local_cost_function,\n",
    "                           x0=initial_theta,\n",
    "                           method='COBYLA', options={'maxiter':200})"
   ]
  },
  {
   "cell_type": "code",
   "execution_count": 46,
   "metadata": {},
   "outputs": [
    {
     "data": {
      "text/plain": [
       "     fun: -6.5283688427397735e-06\n",
       "   maxcv: 0.0\n",
       " message: 'Optimization terminated successfully.'\n",
       "    nfev: 88\n",
       "  status: 1\n",
       " success: True\n",
       "       x: array([-0.05642065,  1.74576102,  0.35455302,  0.774551  ,  0.46596781,\n",
       "       -0.33549137,  0.83591623,  0.50578942,  2.54264869])"
      ]
     },
     "execution_count": 46,
     "metadata": {},
     "output_type": "execute_result"
    }
   ],
   "source": [
    "optmized_params_local"
   ]
  },
  {
   "cell_type": "code",
   "execution_count": 47,
   "metadata": {},
   "outputs": [
    {
     "data": {
      "text/plain": [
       "[array([-0.05642065,  1.74576102,  0.35455302]),\n",
       " [array([ 0.774551  ,  0.46596781, -0.33549137]),\n",
       "  array([0.83591623, 0.50578942, 2.54264869])]]"
      ]
     },
     "execution_count": 47,
     "metadata": {},
     "output_type": "execute_result"
    }
   ],
   "source": [
    "opt_thetas_local = separate_parameters(optmized_params_local.x, layers)\n",
    "opt_thetas_local"
   ]
  },
  {
   "cell_type": "code",
   "execution_count": 48,
   "metadata": {},
   "outputs": [
    {
     "data": {
      "image/png": "[encoded data removed]",
      "text/plain": [
       "<Figure size 705.552x367.889 with 1 Axes>"
      ]
     },
     "metadata": {},
     "output_type": "display_data"
    },
    {
     "name": "stdout",
     "output_type": "stream",
     "text": [
      "Estimate of |x>:\n",
      "[0.04207195+0.j 0.04525019+0.j 0.20426678+0.j 0.21720258+0.j\n",
      " 0.1581148 +0.j 0.12693361+0.j 0.63803603+0.j 0.67755302+0.j]\n"
     ]
    }
   ],
   "source": [
    "circ = QuantumCircuit(n, n)\n",
    "circ.compose(build_fixed_ansatz(n, layers,opt_thetas_local),\n",
    "             inplace=True)\n",
    "display(circ.draw('mpl'))\n",
    "\n",
    "backend = Aer.get_backend('aer_simulator')\n",
    "\n",
    "circ.save_statevector()\n",
    "t_circ = transpile(circ, backend)\n",
    "result = backend.run(t_circ).result()\n",
    "\n",
    "statevec_local = result.get_statevector(circ, decimals=10).data\n",
    "print(f'Estimate of |x>:\\n{statevec_local}')"
   ]
  },
  {
   "cell_type": "code",
   "execution_count": 49,
   "metadata": {},
   "outputs": [
    {
     "name": "stdout",
     "output_type": "stream",
     "text": [
      "Estimate of |Psi>:\n",
      "[0.18483812 0.19880133 0.49358205 0.52483958 0.38206224 0.30671728\n",
      " 0.28031357 0.29767489]\n",
      "\n",
      "State |b>:\n",
      "[0.35355339 0.35355339 0.35355339 0.35355339 0.35355339 0.35355339\n",
      " 0.35355339 0.35355339]\n",
      "\n",
      "Accuracy:0.8903310643737471\n"
     ]
    }
   ],
   "source": [
    "## |psi> estimate\n",
    "psi = np.real(np.dot(A_matrix, statevec_local))\n",
    "psi /= np.linalg.norm(psi)\n",
    "print(f'Estimate of |Psi>:\\n{psi}\\n')\n",
    "\n",
    "## |b>\n",
    "b_vec = [1 for _ in range(2**n)]\n",
    "b_vec /= np.sqrt(2**n)\n",
    "print(f'State |b>:\\n{b_vec}\\n')\n",
    "\n",
    "local_accuracy = (np.dot(b_vec,psi))**2\n",
    "\n",
    "## accuracy\n",
    "print(f'Accuracy:{local_accuracy}')"
   ]
  },
  {
   "cell_type": "markdown",
   "metadata": {},
   "source": [
    "Let's plot our cost function with respect to the number of iterations:"
   ]
  },
  {
   "cell_type": "code",
   "execution_count": 50,
   "metadata": {},
   "outputs": [
    {
     "data": {
      "image/png": "[encoded data removed]",
      "text/plain": [
       "<Figure size 800x550 with 1 Axes>"
      ]
     },
     "metadata": {},
     "output_type": "display_data"
    }
   ],
   "source": [
    "plt.style.use(\"seaborn-v0_8-notebook\")\n",
    "plt.plot(local_cost_plot, \"g\")\n",
    "plt.ylabel(\"Cost function\")\n",
    "plt.xlabel(\"Optimization steps\")\n",
    "plt.show()"
   ]
  },
  {
   "cell_type": "code",
   "execution_count": 51,
   "metadata": {},
   "outputs": [
    {
     "name": "stdout",
     "output_type": "stream",
     "text": [
      "COBYLA - random\n",
      "\n",
      "global_cost_plot: [0.006841227953759188, 0.012695679893644396, 0.007010978787068356, 0.006281997509747228, 0.011106328122665876, 0.007412180388867373, 0.010140117375170843, 0.009410018974195578, 0.008431000356367013, 0.007893292047446154, 0.0039575833749764255, 0.006923474008528774, 0.004563860533026931, 0.0066835066775935426, 0.004670042820895337, 0.004155529552736459, 0.0042392638027386464, 0.004208884529581236, 0.0036491425900888608, 0.003716003647507793, 0.00436711106269172, 0.003897404639045088, 0.00392648868481793, 0.004180261967044019, 0.003401879145823794, 0.003560236452296528, 0.0037919750905202054, 0.003693354543264249, 0.0036156747399289646, 0.003314344398306135, 0.0036669095672448027, 0.0034938781588989, 0.0037682958149961587, 0.0034993317114297984, 0.003667909556984039, 0.0036679794225354945, 0.003608260267281671, 0.0035665980044939927, 0.0035882873754147226, 0.003664304263697904, 0.0037439169500601555, 0.003587999726713642, 0.0035922364051423905, 0.0034211528197880536, 0.00369906115313845, 0.0035424645859624126, 0.003693025321046095, 0.0037313993449277216, 0.0038995615940254913, 0.0034713002257669157, 0.0035294107595601476, 0.0038343242061998906, 0.003627950379039846, 0.003499866223086401, 0.003713904460216244, 0.003628394287876313, 0.003404595446119485, 0.0036794854334909477, 0.0033538029401387615, 0.0036168533707073847, 0.003624931978221557, 0.003535221287617296, 0.003498375231311801, 0.0036570453427619, 0.003694571120984258, 0.003770123373689205, 0.0034909368013126274, 0.0035392679143703143, 0.0038572769983162836, 0.0036159191318095862, 0.0035449752333461815, 0.003547330719819275, 0.003623578931835847, 0.003640733809983865, 0.003601188006244316, 0.0033916033279534075, 0.0032381275224870887, 0.003397634909574232, 0.0034486305593595112, 0.0037899758216759505, 0.003612109236554195, 0.003846388129512879, 0.003494751363222859, 0.0036831675813527864, 0.0035781733453860154]\n",
      "global_accuracy: 0.6705860767336371\n",
      "local_optimized_parameters: [array([0.36128254, 0.90565275, 1.31649445]), [array([ 0.41735396,  0.21348994, -0.19165913]), array([0.55041043, 0.20306157, 0.80134652])]]\n",
      "|x> estimate: [ 0.30075226+0.j  0.32959845+0.j  0.5217123 +0.j  0.17833511+0.j\n",
      "  0.62921306+0.j  0.29373334+0.j -0.03420138+0.j  0.11648051+0.j]\n",
      "\n",
      "local_cost_plot: [0.0021403854951539403, 0.004534479094586541, 0.0016579710190126606, 0.0016770860301913437, 0.001748009369118897, 0.002159633736646571, 0.0020588621339120983, 0.001740140623937625, 0.0022728180103308016, 0.0008505080022441214, 0.0001077889997253556, 0.0001301438650621045, 9.335081018307934e-05, 0.00016050104698633882, 3.467110722688016e-05, 7.835392301713817e-05, 0.0003154577090866417, 5.38187384384603e-05, 0.0005291154256837349, 0.0001258335899714802, 2.7728162577289606e-05, 0.00022149108426300357, 0.00022919856027420193, 3.22249433836741e-05, 0.0003960163833265917, 4.160954218340729e-05, 3.855982450728934e-06, 9.757800225945745e-05, 5.345546946700086e-05, 2.171537693729242e-05, 5.884029856906281e-06, 5.825694676575566e-05, 1.7920235755752856e-05, 3.275115292833419e-05, 8.500662354493649e-05, -4.5495864017031096e-05, 8.412438508548226e-05, 2.1754953042130154e-05, 3.0709018882801864e-05, 3.541169256393584e-05, -2.762293820124384e-06, -8.285339588520735e-06, -1.80661477147126e-05, -5.960595669707303e-06, 3.0152470861077862e-05, -2.1169063487702644e-05, 4.369796958059169e-05, -7.00537392972489e-06, 2.7619356537167405e-05, 5.62703461701175e-05, 4.345442463299376e-05, 7.689525200904601e-05, 5.5388223988983576e-05, 2.738669619095635e-05, 4.1937871741004606e-05, 3.541276285812245e-05, 9.296582019563404e-05, 3.91592033727739e-05, 3.4369870738126806e-05, 9.184756819380357e-06, 0.00010653070654997876, 6.009397791906235e-05, 3.4223413464040675e-05, 4.986626991104748e-05, 2.4365425712546962e-05, -1.8177108888073334e-06, 6.536502207721284e-06, 6.391488766116504e-05, 4.772009504333541e-05, -1.1388159311120916e-05, 3.8269234490295734e-05, 3.399780111779105e-05, 5.3071169622775916e-05, 3.2911290423098816e-05, 4.4905924591442936e-05, -2.5974046192756006e-05, 4.405587642508646e-05, 3.0060177407920108e-05, 4.8987740742190145e-05, 7.992465846556884e-05, 6.817765843969426e-05, 2.6522145859242396e-05, 1.5700404490281983e-05, 2.964683286604819e-05, 6.054927360954476e-05, 7.157055097817278e-05, -1.333912259759984e-06, -6.5283688427397735e-06]\n",
      "local_accuracy: 0.8903310643737471\n",
      "local_optimized_parameters: [array([-0.05642065,  1.74576102,  0.35455302]), [array([ 0.774551  ,  0.46596781, -0.33549137]), array([0.83591623, 0.50578942, 2.54264869])]]\n",
      "|x> estimate: [0.04207195+0.j 0.04525019+0.j 0.20426678+0.j 0.21720258+0.j\n",
      " 0.1581148 +0.j 0.12693361+0.j 0.63803603+0.j 0.67755302+0.j]\n",
      "\n",
      "random.norm x0: [0.9364074341154939, 0.9131020711183478, 0.08296006318230842, 0.8470869568663965, 0.5159052029041769, 0.17801566765683308, 0.9385510835514878, 0.1295043776056809, 0.7465684949732401]\n"
     ]
    }
   ],
   "source": [
    "print('COBYLA - random\\n')\n",
    "\n",
    "print('global_cost_plot:', global_cost_plot)\n",
    "print('global_accuracy:', global_accuracy )\n",
    "print('local_optimized_parameters:', opt_thetas_global)\n",
    "print('|x> estimate:', statevec_global)\n",
    "print()\n",
    "\n",
    "print('local_cost_plot:', local_cost_plot)\n",
    "print('local_accuracy:', local_accuracy )\n",
    "print('local_optimized_parameters:', opt_thetas_local)\n",
    "print('|x> estimate:', statevec_local)\n",
    "print()\n",
    "\n",
    "print('random.norm x0:', initial_theta)"
   ]
  },
  {
   "cell_type": "markdown",
   "metadata": {},
   "source": [
    "## Acknowledgements\n",
    "This notebook is based on the algorithm presented in [*Variational Quantum Linear Solver*](https://arxiv.org/abs/1909.05820) by Carlos Bravo-Prieto, Ryan LaRose, M. Cerezo, Yigit Subasi, Lukasz Cincio, Patrick J. Coles."
   ]
  },
  {
   "cell_type": "code",
   "execution_count": 52,
   "metadata": {},
   "outputs": [
    {
     "data": {
      "text/html": [
       "<h3>Version Information</h3><table><tr><th>Software</th><th>Version</th></tr><tr><td><code>qiskit</code></td><td>0.44.1</td></tr><tr><td><code>qiskit-terra</code></td><td>0.25.1</td></tr><tr><td><code>qiskit_ibm_provider</code></td><td>0.7.2</td></tr><tr><td><code>qiskit_ibm_runtime</code></td><td>0.15.1</td></tr><tr><td><code>qiskit_aer</code></td><td>0.12.2</td></tr><tr><th colspan='2'>System information</th></tr><tr><td>Python version</td><td>3.10.7</td></tr><tr><td>Python compiler</td><td>MSC v.1933 64 bit (AMD64)</td></tr><tr><td>Python build</td><td>tags/v3.10.7:6cc6b13, Sep  5 2022 14:08:36</td></tr><tr><td>OS</td><td>Windows</td></tr><tr><td>CPUs</td><td>6</td></tr><tr><td>Memory (Gb)</td><td>7.880405426025391</td></tr><tr><td colspan='2'>Mon Mar 04 02:30:24 2024 ora solare Europa occidentale</td></tr></table>"
      ],
      "text/plain": [
       "<IPython.core.display.HTML object>"
      ]
     },
     "metadata": {},
     "output_type": "display_data"
    }
   ],
   "source": [
    "import qiskit.tools.jupyter\n",
    "%qiskit_version_table"
   ]
  }
 ],
 "metadata": {
  "kernelspec": {
   "display_name": "Python 3",
   "language": "python",
   "name": "python3"
  },
  "language_info": {
   "codemirror_mode": {
    "name": "ipython",
    "version": 3
   },
   "file_extension": ".py",
   "mimetype": "text/x-python",
   "name": "python",
   "nbconvert_exporter": "python",
   "pygments_lexer": "ipython3",
   "version": "3.10.7"
  }
 },
 "nbformat": 4,
 "nbformat_minor": 2
}

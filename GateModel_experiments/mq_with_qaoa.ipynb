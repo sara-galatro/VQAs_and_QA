{
 "cells": [
  {
   "cell_type": "markdown",
   "metadata": {},
   "source": [
    "# Solving a MQ problem with QAOA"
   ]
  },
  {
   "cell_type": "markdown",
   "metadata": {},
   "source": [
    "Inspired by [1], we try solving the MQ problem with $5$ variables using the QAOAlgorithm.\n",
    "\n",
    "The `article_lib.py` contains functions developed by Sergi Ramos-Calderer and Ruge Lin to implement different embeddings. The code is available online in the GitHub repository [qiboteam/mq-problem-quantum-annealing](https://github.com/qiboteam/mq-problem-quantum-annealing)."
   ]
  },
  {
   "cell_type": "markdown",
   "metadata": {},
   "source": [
    "## Setup"
   ]
  },
  {
   "cell_type": "code",
   "execution_count": 139,
   "metadata": {},
   "outputs": [],
   "source": [
    "## imports\n",
    "import article_lib as article\n",
    "import examples_nnf as nnf\n",
    "\n",
    "import numpy as np\n",
    "from scipy.sparse import dok_array \n",
    "from sympy import symbols"
   ]
  },
  {
   "cell_type": "code",
   "execution_count": 140,
   "metadata": {},
   "outputs": [],
   "source": [
    "## qiskit's imports\n",
    "\n",
    "from qiskit_algorithms.utils import algorithm_globals\n",
    "from qiskit_algorithms import QAOA\n",
    "from qiskit_algorithms.optimizers import COBYLA\n",
    "from qiskit.primitives import Sampler     \n",
    "from qiskit_optimization import QuadraticProgram"
   ]
  },
  {
   "cell_type": "markdown",
   "metadata": {},
   "source": [
    "## Building $\\mathcal{H}$ as a `SparsePauliOp`"
   ]
  },
  {
   "cell_type": "markdown",
   "metadata": {},
   "source": [
    "We start by building the Hamiltonian associated to our problem in a QUBO format using `article_lib.py`."
   ]
  },
  {
   "cell_type": "code",
   "execution_count": 141,
   "metadata": {},
   "outputs": [],
   "source": [
    "## building QUBO model\n",
    "bits = 5\n",
    "\n",
    "x5_sym = symbols(\" \".join((f\"x{i}\" for i in range(1, bits+1))))\n",
    "p5_sym, sol5 = nnf.example_5(*x5_sym)\n",
    "\n",
    "direct = article.direct_embedding(bits, p5_sym, x5_sym)\n",
    "H_sym = direct.create_hamiltonian()\n",
    "sym = direct.get_symbols()\n",
    "\n",
    "d_art = article.dwave_annealing(H_sym, bits, sym)\n",
    "H_qubo, qubo_offset = d_art.symbolic_to_dwave(H_sym, d_art.get_symbol_num(sym))\n",
    "H_qubo = dict(sorted(H_qubo.items()))"
   ]
  },
  {
   "cell_type": "markdown",
   "metadata": {},
   "source": [
    "To define a cost function in Qiskit, we need the `linear` vector and the matrix $Q$ for the `quadratic` list of a list. "
   ]
  },
  {
   "cell_type": "code",
   "execution_count": 142,
   "metadata": {},
   "outputs": [],
   "source": [
    "## coefficients\n",
    "linear = []\n",
    "quadratic = dok_array((2**len(sym),2**len(sym))) \n",
    "\n",
    "count_linear = 0\n",
    "\n",
    "for key in H_qubo.keys():\n",
    "\n",
    "    if key[0] == key[1]:\n",
    "        # linear\n",
    "        while len(linear) != key[0]:\n",
    "            linear.append(0)\n",
    "        linear.append(H_qubo[key])\n",
    "    else:\n",
    "        # quadratic\n",
    "        quadratic[key[0],key[1]] = H_qubo[key]"
   ]
  },
  {
   "cell_type": "markdown",
   "metadata": {},
   "source": [
    "We first create the associated QUBO as a `QuadraticProgram` Qiskit class"
   ]
  },
  {
   "cell_type": "code",
   "execution_count": 143,
   "metadata": {},
   "outputs": [
    {
     "data": {
      "text/plain": [
       "[<Variable: x0 (binary)>,\n",
       " <Variable: x1 (binary)>,\n",
       " <Variable: x2 (binary)>,\n",
       " <Variable: x3 (binary)>,\n",
       " <Variable: x4 (binary)>,\n",
       " <Variable: a0 (binary)>,\n",
       " <Variable: a1 (binary)>,\n",
       " <Variable: a2 (binary)>,\n",
       " <Variable: a3 (binary)>,\n",
       " <Variable: a4 (binary)>]"
      ]
     },
     "execution_count": 143,
     "metadata": {},
     "output_type": "execute_result"
    }
   ],
   "source": [
    "qiskit_qubo = QuadraticProgram('QUBO model from Article')\n",
    "\n",
    "qubo_x = [f'x{i}' for i in range(bits)]\n",
    "qubo_anc = [f'a{i}' for i in range(5)]\n",
    "qubo_var = qubo_x + qubo_anc\n",
    "\n",
    "## variables\n",
    "for var in qubo_var:\n",
    "    qiskit_qubo.binary_var(var)\n",
    "\n",
    "qiskit_qubo.variables"
   ]
  },
  {
   "cell_type": "code",
   "execution_count": 144,
   "metadata": {},
   "outputs": [
    {
     "name": "stdout",
     "output_type": "stream",
     "text": [
      "Problem name: QUBO model from Article\n",
      "\n",
      "Minimize\n",
      "  8*a0*a2 - 6*a0*a3 - 6*a0*a4 - 18*a1*a2 - 30*x0*a0 + 2*x0*a1 - 2*x0*a2\n",
      "  + 4*x0*a3 + 2*x0*a4 + 15*x0*x1 - 2*x0*x2 - 2*x0*x3 - x0*x4 - 30*x1*a0\n",
      "  + 2*x1*a1 - 6*x1*a2 + 2*x1*a3 + 2*x1*a4 - x1*x4 + 4*x2*a0 + 9*x2*a1 - 18*x2*a2\n",
      "  - 16*x2*a3 - 14*x2*a4 + 8*x2*x3 + 7*x2*x4 + 2*x3*a0 - 26*x3*a1 - 16*x3*a3\n",
      "  + 13*x3*x4 - 26*x4*a1 - 14*x4*a4 + 43*a0 + 39*a1 + 27*a2 + 23*a3 + 22*a4\n",
      "  + 2*x0 + 2\n",
      "\n",
      "Subject to\n",
      "  No constraints\n",
      "\n",
      "  Binary variables (10)\n",
      "    x0 x1 x2 x3 x4 a0 a1 a2 a3 a4\n",
      "\n"
     ]
    }
   ],
   "source": [
    "## cost function\n",
    "qiskit_qubo.minimize(constant=qubo_offset, linear=linear, quadratic=quadratic)\n",
    "print(qiskit_qubo.prettyprint())"
   ]
  },
  {
   "cell_type": "markdown",
   "metadata": {},
   "source": [
    "and then we turn it into an Ising model, which is the correct object type the minimizer takes as input."
   ]
  },
  {
   "cell_type": "code",
   "execution_count": 145,
   "metadata": {},
   "outputs": [
    {
     "name": "stdout",
     "output_type": "stream",
     "text": [
      "offset: 41.5\n",
      "operator:\n",
      "SparsePauliOp(['IIIIIIIIIZ', 'IIIIZIIIII', 'IIIZIIIIII', 'IIZIIIIIII', 'IZIIIIIIII', 'ZIIIIIIIII', 'IIIIIIIIZZ', 'IIIIIIIIZI', 'IIIIIIIZIZ', 'IIIIIIIZII', 'IIIIIIZIIZ', 'IIIIIIZIII', 'IIIIIIZZII', 'IIIIIZIIIZ', 'IIIIIZIIII', 'IIIIIZIIZI', 'IIIIIZIZII', 'IIIIIZZIII', 'IIIIZIIIIZ', 'IIIIZIIIZI', 'IIIIZIIZII', 'IIIIZIZIII', 'IIIZIIIIIZ', 'IIIZIIIIZI', 'IIIZIIIZII', 'IIIZIIZIII', 'IIIZIZIIII', 'IIZIIIIIIZ', 'IIZIIIIIZI', 'IIZIIIIZII', 'IIZIZIIIII', 'IIZZIIIIII', 'IZIIIIIIIZ', 'IZIIIIIIZI', 'IZIIIIIZII', 'IZIIIIZIII', 'IZIIZIIIII', 'ZIIIIIIIIZ', 'ZIIIIIIIZI', 'ZIIIIIIZII', 'ZIIIIZIIII', 'ZIIIZIIIII'],\n",
      "              coeffs=[ 2.5 +0.j, -7.  +0.j, -5.25+0.j, -4.5 +0.j, -3.5 +0.j, -3.5 +0.j,\n",
      "  3.75+0.j,  4.  +0.j, -0.5 +0.j,  5.5 +0.j, -0.5 +0.j,  5.25+0.j,\n",
      "  2.  +0.j, -0.25+0.j,  5.5 +0.j, -0.25+0.j,  1.75+0.j,  3.25+0.j,\n",
      " -7.5 +0.j, -7.5 +0.j,  1.  +0.j,  0.5 +0.j,  0.5 +0.j,  0.5 +0.j,\n",
      "  2.25+0.j, -6.5 +0.j, -6.5 +0.j, -0.5 +0.j, -1.5 +0.j, -4.5 +0.j,\n",
      "  2.  +0.j, -4.5 +0.j,  1.  +0.j,  0.5 +0.j, -4.  +0.j, -4.  +0.j,\n",
      " -1.5 +0.j,  0.5 +0.j,  0.5 +0.j, -3.5 +0.j, -3.5 +0.j, -1.5 +0.j])\n"
     ]
    }
   ],
   "source": [
    "## to Ising\n",
    "ising_model, ising_offset = qiskit_qubo.to_ising()\n",
    "print(f\"offset: {ising_offset}\")\n",
    "print(\"operator:\")\n",
    "print(ising_model)"
   ]
  },
  {
   "cell_type": "markdown",
   "metadata": {},
   "source": [
    "## QAOA"
   ]
  },
  {
   "cell_type": "markdown",
   "metadata": {},
   "source": [
    "To implement the QAOAlgorithm we rely on Qiskit homonimous class [2], namely:\n",
    "\n",
    "<center>\n",
    "\n",
    "`qiskit.algorithms.minimum_eigensolvers.QAOA(sampler, optimizer, *, reps=1, initial_state=None, mixer=None, initial_point=None, aggregation=None, callback=None)`\n",
    "\n",
    "</center>\n",
    "\n",
    "We also define a custom `callback` function to track the evolution of the ansatz parameters."
   ]
  },
  {
   "cell_type": "code",
   "execution_count": 146,
   "metadata": {},
   "outputs": [],
   "source": [
    "def my_callback(evaluation_count, optimizer_parameters, estimated_value, metadata):\n",
    "\n",
    "    global callback_data, cost\n",
    "\n",
    "    callback_data.append(optimizer_parameters)\n",
    "    cost.append(estimated_value)\n",
    "    \n",
    "    #print(optimizer_parameters)"
   ]
  },
  {
   "cell_type": "code",
   "execution_count": 147,
   "metadata": {},
   "outputs": [],
   "source": [
    "## hyperparameters\n",
    "p = 1\n",
    "initial_point = [np.random.rand() for _ in range(2*p)]\n",
    "callback_data = []\n",
    "cost = []\n",
    "\n",
    "## QAOA class\n",
    "qaoa_mes = QAOA(sampler=Sampler(), optimizer=COBYLA(), reps=p, initial_point=initial_point, callback=my_callback)"
   ]
  },
  {
   "cell_type": "markdown",
   "metadata": {},
   "source": [
    "To run our optimization routine we call the `compute_minimum_eigenvalue()` method of the QAOA class:"
   ]
  },
  {
   "cell_type": "code",
   "execution_count": 148,
   "metadata": {},
   "outputs": [],
   "source": [
    "## minimizing\n",
    "qaoa_result = qaoa_mes.compute_minimum_eigenvalue(ising_model)"
   ]
  },
  {
   "cell_type": "markdown",
   "metadata": {},
   "source": [
    "As for the final results, we are interested in the best measurement and the number of function evaluations:"
   ]
  },
  {
   "cell_type": "code",
   "execution_count": 149,
   "metadata": {},
   "outputs": [
    {
     "name": "stdout",
     "output_type": "stream",
     "text": [
      "Best measurement:{'state': 51, 'bitstring': '0000110011', 'value': (-41.5+0j), 'probability': 0.0042611152743709}\n",
      "Number of function evaluations: 228\n"
     ]
    }
   ],
   "source": [
    "print(f'Best measurement:{qaoa_result.best_measurement}')\n",
    "print(f'Number of function evaluations: {qaoa_result.cost_function_evals}')"
   ]
  },
  {
   "cell_type": "markdown",
   "metadata": {},
   "source": [
    "The best measurement is a dictionary with a few informations, but we only need the `bitstring` one to retrieve the solution to our MQ problem. Specifically, we need only the measured bit associated to the first $5$ qubits.\n",
    "\n",
    "Please notice that `bitstring` is reversed since Qiskit uses the little-endian convention."
   ]
  },
  {
   "cell_type": "code",
   "execution_count": 150,
   "metadata": {},
   "outputs": [
    {
     "name": "stdout",
     "output_type": "stream",
     "text": [
      "Best measurement: 1100110000\n",
      "obtained with probability 0.0042611152743709\n",
      "\n",
      "------------------------------------------------------------------------------\n",
      "\n",
      "Solution found: 11001\n",
      "Known solution(s): 11001\n"
     ]
    }
   ],
   "source": [
    "ph_string = qaoa_result.best_measurement['bitstring'][::-1]\n",
    "ph_prob = qaoa_result.best_measurement['probability']\n",
    "print(f'Best measurement: {ph_string}')\n",
    "print(f'obtained with probability {ph_prob}')\n",
    "\n",
    "print('\\n------------------------------------------------------------------------------\\n')\n",
    "\n",
    "knwon_sol = ''.join(str(i) for i in sol5[0])\n",
    "print(f'Solution found: {ph_string[:bits]}')\n",
    "print(f'Known solution(s): {knwon_sol}')"
   ]
  },
  {
   "cell_type": "markdown",
   "metadata": {},
   "source": [
    "The QAOA found the correct solution!"
   ]
  },
  {
   "cell_type": "markdown",
   "metadata": {},
   "source": [
    "## Simulating a noisy run"
   ]
  },
  {
   "cell_type": "markdown",
   "metadata": {},
   "source": [
    "Since running on a real QPU would exceed the available monthly usage, we fall back to simulating noise on our computation. Hence, we start by setting up a noise model on the fake backend `FakeWashingtonV2`."
   ]
  },
  {
   "cell_type": "code",
   "execution_count": 151,
   "metadata": {},
   "outputs": [],
   "source": [
    "from qiskit_ibm_runtime import QiskitRuntimeService, Options\n",
    "from qiskit.providers.fake_provider import FakeWashingtonV2\n",
    "from qiskit.primitives import BackendSampler\n",
    "from qiskit_aer.noise import NoiseModel\n",
    " \n",
    "service = QiskitRuntimeService()\n",
    "\n",
    "backend = FakeWashingtonV2()                    ## fake backend\n",
    "noise_model = NoiseModel.from_backend(backend)  ## + noise\n",
    "\n",
    "options = Options()\n",
    "options.resilience_level = 2\n",
    "options.optimization_level = 3\n",
    "options.simulator.set_backend(backend)\n",
    "options_dict = options.__dict__\n",
    " \n",
    "sampler = BackendSampler(backend, options_dict) ## fake Sampler            "
   ]
  },
  {
   "cell_type": "markdown",
   "metadata": {},
   "source": [
    "Since the sampler is not the Qiskit primitive but a fake one tailored to our fake backend, the callback is not an available option and it will not be implemented."
   ]
  },
  {
   "cell_type": "code",
   "execution_count": 152,
   "metadata": {},
   "outputs": [],
   "source": [
    "## hyperparameters\n",
    "p = 1\n",
    "initial_point = [np.random.rand() for _ in range(2*p)]\n",
    "\n",
    "## QAOA class\n",
    "qaoa_mes_noise = QAOA(sampler=sampler, optimizer=COBYLA(), reps=p, initial_point=initial_point)\n",
    "\n",
    "## minimizing\n",
    "qaoa_noise_result = qaoa_mes_noise.compute_minimum_eigenvalue(ising_model)"
   ]
  },
  {
   "cell_type": "code",
   "execution_count": 153,
   "metadata": {},
   "outputs": [
    {
     "name": "stdout",
     "output_type": "stream",
     "text": [
      "Best measurement:{'state': 51, 'bitstring': '0000110011', 'value': (-41.5+0j), 'probability': 0.00390625}\n",
      "Number of function evaluations: 30\n"
     ]
    }
   ],
   "source": [
    "print(f'Best measurement:{qaoa_noise_result.best_measurement}')\n",
    "print(f'Number of function evaluations: {qaoa_noise_result.cost_function_evals}')"
   ]
  },
  {
   "cell_type": "markdown",
   "metadata": {},
   "source": [
    "Once again, we focus on the `bitstring` variable to see if noise hindered our algorithm."
   ]
  },
  {
   "cell_type": "code",
   "execution_count": 154,
   "metadata": {},
   "outputs": [
    {
     "name": "stdout",
     "output_type": "stream",
     "text": [
      "Best measurement: 1100110000\n",
      "obtained with probability 0.00390625\n",
      "\n",
      "------------------------------------------------------------------------------\n",
      "\n",
      "Solution found: 11001\n",
      "Known solution(s): 11001\n"
     ]
    }
   ],
   "source": [
    "ph_string = qaoa_noise_result.best_measurement['bitstring'][::-1]\n",
    "ph_prob = qaoa_noise_result.best_measurement['probability']\n",
    "print(f'Best measurement: {ph_string}')\n",
    "print(f'obtained with probability {ph_prob}')\n",
    "\n",
    "print('\\n------------------------------------------------------------------------------\\n')\n",
    "\n",
    "knwon_sol = ''.join(str(i) for i in sol5[0])\n",
    "print(f'Solution found: {ph_string[:bits]}')\n",
    "print(f'Known solution(s): {knwon_sol}')"
   ]
  },
  {
   "cell_type": "markdown",
   "metadata": {},
   "source": [
    "It didn't! The noise mitigation worked perfectly and we got the correct answer in this case too."
   ]
  },
  {
   "cell_type": "markdown",
   "metadata": {},
   "source": [
    "# References\n",
    "[1] [\"Solving systems of Boolean multivariate equations with quantum annealing\"](https://arxiv.org/abs/2111.13224) by Sergi Ramos-Calderer, Carlos Bravo-Prieto, Ruge Lin, Emanuele Bellini, Marc Manzano, Najwa Aaraj, and José I. Latorre <br>\n",
    "[2] [QAOA Qiskit](https://qiskit-community.github.io/qiskit-algorithms/stubs/qiskit_algorithms.QAOA.html)"
   ]
  },
  {
   "cell_type": "code",
   "execution_count": 169,
   "metadata": {},
   "outputs": [
    {
     "data": {
      "text/html": [
       "<h3>Version Information</h3><table><tr><th>Software</th><th>Version</th></tr><tr><td><code>qiskit</code></td><td>0.44.1</td></tr><tr><td><code>qiskit-terra</code></td><td>0.25.1</td></tr><tr><td><code>qiskit_aer</code></td><td>0.12.2</td></tr><tr><td><code>qiskit_optimization</code></td><td>0.6.0</td></tr><tr><td><code>qiskit_algorithms</code></td><td>0.2.1</td></tr><tr><td><code>qiskit_ibm_provider</code></td><td>0.7.2</td></tr><tr><td><code>qiskit_ibm_runtime</code></td><td>0.15.1</td></tr><tr><th colspan='2'>System information</th></tr><tr><td>Python version</td><td>3.10.7</td></tr><tr><td>Python compiler</td><td>MSC v.1933 64 bit (AMD64)</td></tr><tr><td>Python build</td><td>tags/v3.10.7:6cc6b13, Sep  5 2022 14:08:36</td></tr><tr><td>OS</td><td>Windows</td></tr><tr><td>CPUs</td><td>6</td></tr><tr><td>Memory (Gb)</td><td>7.880405426025391</td></tr><tr><td colspan='2'>Wed Feb 21 01:33:15 2024 ora solare Europa occidentale</td></tr></table>"
      ],
      "text/plain": [
       "<IPython.core.display.HTML object>"
      ]
     },
     "metadata": {},
     "output_type": "display_data"
    }
   ],
   "source": [
    "import qiskit.tools.jupyter\n",
    "%qiskit_version_table"
   ]
  }
 ],
 "metadata": {
  "kernelspec": {
   "display_name": "Python 3",
   "language": "python",
   "name": "python3"
  },
  "language_info": {
   "codemirror_mode": {
    "name": "ipython",
    "version": 3
   },
   "file_extension": ".py",
   "mimetype": "text/x-python",
   "name": "python",
   "nbconvert_exporter": "python",
   "pygments_lexer": "ipython3",
   "version": "3.10.7"
  }
 },
 "nbformat": 4,
 "nbformat_minor": 2
}
